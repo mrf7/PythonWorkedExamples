{
 "cells": [
  {
   "cell_type": "markdown",
   "metadata": {},
   "source": [
    "# Analysis of Worked Example Data\n",
    "\n",
    "This workbook analyzes student data"
   ]
  },
  {
   "cell_type": "markdown",
   "metadata": {},
   "source": [
    "## Loading\n",
    "First, we load the relevant data and supporting libraries."
   ]
  },
  {
   "cell_type": "code",
   "execution_count": 129,
   "metadata": {},
   "outputs": [],
   "source": [
    "import pandas as pd\n",
    "import matplotlib.pyplot as plt\n",
    "import scipy.stats as st\n",
    "import json\n",
    "from pprint import pprint\n",
    "from numpy import std, mean, sqrt\n",
    "\n",
    "def pretty_percent(a_decimal):\n",
    "    return round(a_decimal*1000)/10\n",
    "def used_we(events):\n",
    "    if not isinstance(events, list):\n",
    "        return False\n",
    "    return any(\"worked_examples\" in event for event in events)\n",
    "def prior_experience(reported):\n",
    "    if not isinstance(reported, list):\n",
    "        return False\n",
    "    return any(reported)\n",
    "\n",
    "def isComfortable(reported):\n",
    "    return \"unc\" not in reported\n",
    "\n",
    "def cohen_d(x,y):\n",
    "    nx = len(x)\n",
    "    ny = len(y)\n",
    "    dof = nx + ny - 2\n",
    "    return (mean(x) - mean(y)) / sqrt(((nx-1)*std(x, ddof=1) ** 2 + (ny-1)*std(y, ddof=1) ** 2) / dof)\n"
   ]
  },
  {
   "cell_type": "code",
   "execution_count": 41,
   "metadata": {
    "collapsed": true
   },
   "outputs": [],
   "source": [
    "# Anonymized Settings\n",
    "# Information here should be de-anonymized before publication\n",
    "FILENAME = \"cs1064_worked_examples_data.json\"\n",
    "SECTION_MAP = {\"Bart - MWF\": \"S18\",\n",
    "               \"Fall 2017\": \"F17\",\n",
    "               \"Panagiotis - TR\": \"S18-alt\"}\n",
    "def PRIOR_MAP(value):\n",
    "    return [\"Community College\" if \"community\" in answer else\n",
    "            \"University\" if \"Virginia Tech\" in answer else\n",
    "            \"Online\" if \"online\" in answer else\n",
    "            \"High School\" if \"high school\" in answer else\n",
    "            \"\"\n",
    "            for answer in value.split(\",\")]"
   ]
  },
  {
   "cell_type": "code",
   "execution_count": 42,
   "metadata": {
    "collapsed": true
   },
   "outputs": [],
   "source": [
    "with open(FILENAME, 'r') as log_data:\n",
    "    data = json.load(log_data)"
   ]
  },
  {
   "cell_type": "markdown",
   "metadata": {},
   "source": [
    "### Tidying\n",
    "\n",
    "Restructure the data a little to make it easier to read with Pandas. In particular, we are going to make the data [\"tidy\"](https://en.wikipedia.org/wiki/Tidy_data), where each row is an observation and each column is a feature/variable."
   ]
  },
  {
   "cell_type": "code",
   "execution_count": 43,
   "metadata": {
    "collapsed": true
   },
   "outputs": [],
   "source": [
    "tidy_data = []\n",
    "for row in data:\n",
    "    if not row['demographics']:\n",
    "        continue\n",
    "    row['user']['user_name'] = row['user'].pop('name')\n",
    "    row['user']['section'] = SECTION_MAP[row['user']['section']]\n",
    "    row['demographics']['Prior Computing Experience'] = PRIOR_MAP(row['demographics']['Prior Computing Experience'])\n",
    "    for assignment_name, assignment in row['assignment'].items():\n",
    "        assignment['name'] = assignment_name\n",
    "        assignment.update(row['demographics'])\n",
    "        assignment.update(row['user'])\n",
    "        if row['survey']:\n",
    "            assignment.update(row['survey'])\n",
    "        else:\n",
    "            assignment.update({'Aware?':None, 'ReadFrequency':None, \n",
    "                               'ReadWhen':None, 'ReadWhy':None, \n",
    "                               'AfterReading':None, 'ExampleWasHelpful':None})\n",
    "        tidy_data.append(assignment)\n",
    "df = pd.DataFrame(tidy_data)"
   ]
  },
  {
   "cell_type": "markdown",
   "metadata": {},
   "source": [
    "### Filtering and Transformation\n",
    "\n",
    "Remove certain students and problems"
   ]
  },
  {
   "cell_type": "code",
   "execution_count": 111,
   "metadata": {},
   "outputs": [],
   "source": [
    "# Filter alternate section to control for instructor\n",
    "df = df[df.section != \"S18-alt\"]\n",
    "# Create column for whether they used the worked examples\n",
    "df['used_we'] = df.events.apply(used_we)\n",
    "df['Prior'] = df[\"Prior Computing Experience\"].apply(prior_experience)\n",
    "df['Comfort'] = df[\"Programming Comfort\"].apply(isComfortable)\n",
    "# Filtered subsection of students \n",
    "attempted = df[df.attempted]\n",
    "corrected = df[df.correct]\n",
    "# Spring only data\n",
    "experiment = attempted[attempted.section == \"S18\"]"
   ]
  },
  {
   "cell_type": "markdown",
   "metadata": {},
   "source": [
    "### Preview Data"
   ]
  },
  {
   "cell_type": "code",
   "execution_count": 81,
   "metadata": {},
   "outputs": [
    {
     "data": {
      "text/html": [
       "<div>\n",
       "<style>\n",
       "    .dataframe thead tr:only-child th {\n",
       "        text-align: right;\n",
       "    }\n",
       "\n",
       "    .dataframe thead th {\n",
       "        text-align: left;\n",
       "    }\n",
       "\n",
       "    .dataframe tbody tr th {\n",
       "        vertical-align: top;\n",
       "    }\n",
       "</style>\n",
       "<table border=\"1\" class=\"dataframe\">\n",
       "  <thead>\n",
       "    <tr style=\"text-align: right;\">\n",
       "      <th></th>\n",
       "      <th>AfterReading</th>\n",
       "      <th>Aware?</th>\n",
       "      <th>Computer Comfort</th>\n",
       "      <th>ExampleWasHelpful</th>\n",
       "      <th>Gender</th>\n",
       "      <th>Prior Computing Experience</th>\n",
       "      <th>Programming Comfort</th>\n",
       "      <th>ReadFrequency</th>\n",
       "      <th>ReadWhen</th>\n",
       "      <th>ReadWhy</th>\n",
       "      <th>...</th>\n",
       "      <th>name</th>\n",
       "      <th>runs</th>\n",
       "      <th>section</th>\n",
       "      <th>time_on_task</th>\n",
       "      <th>user_id</th>\n",
       "      <th>user_name</th>\n",
       "      <th>version</th>\n",
       "      <th>used_we</th>\n",
       "      <th>Prior</th>\n",
       "      <th>Comfort</th>\n",
       "    </tr>\n",
       "  </thead>\n",
       "  <tbody>\n",
       "    <tr>\n",
       "      <th>4259</th>\n",
       "      <td>Better understood the concept being taught,Bet...</td>\n",
       "      <td>Yes</td>\n",
       "      <td>Extremely comfortable</td>\n",
       "      <td>Strongly agree</td>\n",
       "      <td>Male</td>\n",
       "      <td>[]</td>\n",
       "      <td>Neither comfortable nor uncomfortable</td>\n",
       "      <td>Most of the time</td>\n",
       "      <td>After reading the problem\\, but was unsure how...</td>\n",
       "      <td>Because I was confused about how to solve the ...</td>\n",
       "      <td>...</td>\n",
       "      <td>#45.6) File Size</td>\n",
       "      <td>6</td>\n",
       "      <td>S18</td>\n",
       "      <td>274.0</td>\n",
       "      <td>1690</td>\n",
       "      <td>Vanilluxe</td>\n",
       "      <td>36</td>\n",
       "      <td>True</td>\n",
       "      <td>False</td>\n",
       "      <td>False</td>\n",
       "    </tr>\n",
       "    <tr>\n",
       "      <th>3796</th>\n",
       "      <td>Better understood the concept being taught,Bet...</td>\n",
       "      <td>Yes</td>\n",
       "      <td>Extremely comfortable</td>\n",
       "      <td>Somewhat agree</td>\n",
       "      <td>Male</td>\n",
       "      <td>[High School]</td>\n",
       "      <td>Slightly comfortable</td>\n",
       "      <td>Always</td>\n",
       "      <td>After reading the problem\\, but was unsure how...</td>\n",
       "      <td>Because I was confused about what the problem ...</td>\n",
       "      <td>...</td>\n",
       "      <td>#40.2) Word Frequency</td>\n",
       "      <td>3</td>\n",
       "      <td>S18</td>\n",
       "      <td>374.0</td>\n",
       "      <td>1635</td>\n",
       "      <td>Spinda</td>\n",
       "      <td>32</td>\n",
       "      <td>True</td>\n",
       "      <td>True</td>\n",
       "      <td>True</td>\n",
       "    </tr>\n",
       "    <tr>\n",
       "      <th>313</th>\n",
       "      <td>Better understood the concept being taught</td>\n",
       "      <td>Yes</td>\n",
       "      <td>Moderately comfortable</td>\n",
       "      <td>Somewhat agree</td>\n",
       "      <td>Male</td>\n",
       "      <td>[High School]</td>\n",
       "      <td>Slightly comfortable</td>\n",
       "      <td>About half the time</td>\n",
       "      <td>After reading the problem\\, but was unsure how...</td>\n",
       "      <td>Because I was confused about how to solve the ...</td>\n",
       "      <td>...</td>\n",
       "      <td>#43.4) Multiple Returns</td>\n",
       "      <td>4</td>\n",
       "      <td>S18</td>\n",
       "      <td>211.0</td>\n",
       "      <td>1689</td>\n",
       "      <td>Bibarel</td>\n",
       "      <td>37</td>\n",
       "      <td>False</td>\n",
       "      <td>True</td>\n",
       "      <td>True</td>\n",
       "    </tr>\n",
       "    <tr>\n",
       "      <th>3642</th>\n",
       "      <td>None</td>\n",
       "      <td>None</td>\n",
       "      <td>Extremely comfortable</td>\n",
       "      <td>None</td>\n",
       "      <td>Male</td>\n",
       "      <td>[Online, , ]</td>\n",
       "      <td>Slightly comfortable</td>\n",
       "      <td>None</td>\n",
       "      <td>None</td>\n",
       "      <td>None</td>\n",
       "      <td>...</td>\n",
       "      <td>#45.4) Plus or Minus</td>\n",
       "      <td>5</td>\n",
       "      <td>F17</td>\n",
       "      <td>302.0</td>\n",
       "      <td>819</td>\n",
       "      <td>Sliggoo</td>\n",
       "      <td>43</td>\n",
       "      <td>False</td>\n",
       "      <td>True</td>\n",
       "      <td>True</td>\n",
       "    </tr>\n",
       "    <tr>\n",
       "      <th>398</th>\n",
       "      <td>None</td>\n",
       "      <td>None</td>\n",
       "      <td>Extremely comfortable</td>\n",
       "      <td>None</td>\n",
       "      <td>Male</td>\n",
       "      <td>[University, Online, , ]</td>\n",
       "      <td>Slightly uncomfortable</td>\n",
       "      <td>None</td>\n",
       "      <td>None</td>\n",
       "      <td>None</td>\n",
       "      <td>...</td>\n",
       "      <td>#45.5) Fix Names</td>\n",
       "      <td>4</td>\n",
       "      <td>F17</td>\n",
       "      <td>156.0</td>\n",
       "      <td>912</td>\n",
       "      <td>Braixen</td>\n",
       "      <td>29</td>\n",
       "      <td>False</td>\n",
       "      <td>True</td>\n",
       "      <td>False</td>\n",
       "    </tr>\n",
       "  </tbody>\n",
       "</table>\n",
       "<p>5 rows × 23 columns</p>\n",
       "</div>"
      ],
      "text/plain": [
       "                                           AfterReading Aware?  \\\n",
       "4259  Better understood the concept being taught,Bet...    Yes   \n",
       "3796  Better understood the concept being taught,Bet...    Yes   \n",
       "313          Better understood the concept being taught    Yes   \n",
       "3642                                               None   None   \n",
       "398                                                None   None   \n",
       "\n",
       "            Computer Comfort ExampleWasHelpful Gender  \\\n",
       "4259   Extremely comfortable    Strongly agree   Male   \n",
       "3796   Extremely comfortable    Somewhat agree   Male   \n",
       "313   Moderately comfortable    Somewhat agree   Male   \n",
       "3642   Extremely comfortable              None   Male   \n",
       "398    Extremely comfortable              None   Male   \n",
       "\n",
       "     Prior Computing Experience                    Programming Comfort  \\\n",
       "4259                         []  Neither comfortable nor uncomfortable   \n",
       "3796              [High School]                   Slightly comfortable   \n",
       "313               [High School]                   Slightly comfortable   \n",
       "3642               [Online, , ]                   Slightly comfortable   \n",
       "398    [University, Online, , ]                 Slightly uncomfortable   \n",
       "\n",
       "            ReadFrequency                                           ReadWhen  \\\n",
       "4259     Most of the time  After reading the problem\\, but was unsure how...   \n",
       "3796               Always  After reading the problem\\, but was unsure how...   \n",
       "313   About half the time  After reading the problem\\, but was unsure how...   \n",
       "3642                 None                                               None   \n",
       "398                  None                                               None   \n",
       "\n",
       "                                                ReadWhy   ...     \\\n",
       "4259  Because I was confused about how to solve the ...   ...      \n",
       "3796  Because I was confused about what the problem ...   ...      \n",
       "313   Because I was confused about how to solve the ...   ...      \n",
       "3642                                               None   ...      \n",
       "398                                                None   ...      \n",
       "\n",
       "                         name  runs section time_on_task  user_id  user_name  \\\n",
       "4259         #45.6) File Size     6     S18        274.0     1690  Vanilluxe   \n",
       "3796    #40.2) Word Frequency     3     S18        374.0     1635     Spinda   \n",
       "313   #43.4) Multiple Returns     4     S18        211.0     1689    Bibarel   \n",
       "3642     #45.4) Plus or Minus     5     F17        302.0      819    Sliggoo   \n",
       "398          #45.5) Fix Names     4     F17        156.0      912    Braixen   \n",
       "\n",
       "      version  used_we  Prior  Comfort  \n",
       "4259       36     True  False    False  \n",
       "3796       32     True   True     True  \n",
       "313        37    False   True     True  \n",
       "3642       43    False   True     True  \n",
       "398        29    False   True    False  \n",
       "\n",
       "[5 rows x 23 columns]"
      ]
     },
     "execution_count": 81,
     "metadata": {},
     "output_type": "execute_result"
    }
   ],
   "source": [
    "# Pick five entries at random\n",
    "df.sample(5)"
   ]
  },
  {
   "cell_type": "markdown",
   "metadata": {},
   "source": [
    "## Completion Rates by Section\n"
   ]
  },
  {
   "cell_type": "code",
   "execution_count": 46,
   "metadata": {},
   "outputs": [
    {
     "data": {
      "text/html": [
       "<div>\n",
       "<style>\n",
       "    .dataframe thead tr:only-child th {\n",
       "        text-align: right;\n",
       "    }\n",
       "\n",
       "    .dataframe thead th {\n",
       "        text-align: left;\n",
       "    }\n",
       "\n",
       "    .dataframe tbody tr th {\n",
       "        vertical-align: top;\n",
       "    }\n",
       "</style>\n",
       "<table border=\"1\" class=\"dataframe\">\n",
       "  <thead>\n",
       "    <tr style=\"text-align: right;\">\n",
       "      <th></th>\n",
       "      <th>correct</th>\n",
       "      <th>incomplete</th>\n",
       "      <th>not attempted</th>\n",
       "    </tr>\n",
       "    <tr>\n",
       "      <th>section</th>\n",
       "      <th></th>\n",
       "      <th></th>\n",
       "      <th></th>\n",
       "    </tr>\n",
       "  </thead>\n",
       "  <tbody>\n",
       "    <tr>\n",
       "      <th>F17</th>\n",
       "      <td>87.6</td>\n",
       "      <td>10.9</td>\n",
       "      <td>1.5</td>\n",
       "    </tr>\n",
       "    <tr>\n",
       "      <th>S18</th>\n",
       "      <td>83.0</td>\n",
       "      <td>12.6</td>\n",
       "      <td>4.4</td>\n",
       "    </tr>\n",
       "  </tbody>\n",
       "</table>\n",
       "</div>"
      ],
      "text/plain": [
       "         correct  incomplete  not attempted\n",
       "section                                    \n",
       "F17         87.6        10.9            1.5\n",
       "S18         83.0        12.6            4.4"
      ]
     },
     "execution_count": 46,
     "metadata": {},
     "output_type": "execute_result"
    }
   ],
   "source": [
    "# Group by section, compute mean (with binary outcomes, that corresponds to percent)\n",
    "completions = df.groupby([\"section\"])[['correct', 'attempted']].mean()\n",
    "# Find the students who attempted but did not get it correct\n",
    "completions['incomplete'] = completions['attempted'] - completions['correct']\n",
    "# Find the students who never even attempted it\n",
    "completions['not attempted'] = 1 - completions['attempted']\n",
    "# Make the numbers into percentages and print out the table\n",
    "completions[['correct', 'incomplete', 'not attempted']].apply(pretty_percent)"
   ]
  },
  {
   "cell_type": "code",
   "execution_count": 47,
   "metadata": {},
   "outputs": [
    {
     "data": {
      "image/png": "[encoded data removed]",
      "text/plain": [
       "<matplotlib.figure.Figure at 0x1a105f846a0>"
      ]
     },
     "metadata": {},
     "output_type": "display_data"
    }
   ],
   "source": [
    "# Make a horizontal stacked bar chart of the interesting columns\n",
    "completions[['correct', 'incomplete', 'not attempted']].plot.barh(stacked=True)\n",
    "plt.show()"
   ]
  },
  {
   "cell_type": "code",
   "execution_count": 48,
   "metadata": {},
   "outputs": [
    {
     "data": {
      "text/plain": [
       "MannwhitneyuResult(statistic=2057412.0, pvalue=1.0182357659628822e-05)"
      ]
     },
     "execution_count": 48,
     "metadata": {},
     "output_type": "execute_result"
    }
   ],
   "source": [
    "# Perform a Mann-Whitney U for each section's data\n",
    "st.mannwhitneyu(df[df.section==\"S18\"].correct, df[df.section==\"F17\"].correct)"
   ]
  },
  {
   "cell_type": "markdown",
   "metadata": {},
   "source": [
    "From the above, we see that there was a significant but small difference in the number of completions between each semester (roughly 5%), owing largely to fewer students attempting the problems (3%).\n",
    "\n",
    "A Mann-whitney U test was chosen instead of a T-Test because the outcome variable was dichotomous, but a Chi Square test was not used to avoid unnecessary complexity. Experimentation suggested that all three tests had the same outcome.\n",
    "\n",
    "Subsequent analyses will filter out students who did not attempt a problem."
   ]
  },
  {
   "cell_type": "markdown",
   "metadata": {},
   "source": [
    "## Completion Rates by Problem"
   ]
  },
  {
   "cell_type": "code",
   "execution_count": 49,
   "metadata": {},
   "outputs": [
    {
     "data": {
      "text/html": [
       "<div>\n",
       "<style>\n",
       "    .dataframe thead tr:only-child th {\n",
       "        text-align: right;\n",
       "    }\n",
       "\n",
       "    .dataframe thead th {\n",
       "        text-align: left;\n",
       "    }\n",
       "\n",
       "    .dataframe tbody tr th {\n",
       "        vertical-align: top;\n",
       "    }\n",
       "</style>\n",
       "<table border=\"1\" class=\"dataframe\">\n",
       "  <thead>\n",
       "    <tr style=\"text-align: right;\">\n",
       "      <th>section</th>\n",
       "      <th>F17</th>\n",
       "      <th>S18</th>\n",
       "    </tr>\n",
       "    <tr>\n",
       "      <th>name</th>\n",
       "      <th></th>\n",
       "      <th></th>\n",
       "    </tr>\n",
       "  </thead>\n",
       "  <tbody>\n",
       "    <tr>\n",
       "      <th>#33.3) Cube Elements</th>\n",
       "      <td>92.1</td>\n",
       "      <td>91.1</td>\n",
       "    </tr>\n",
       "    <tr>\n",
       "      <th>#39.4) Default Name</th>\n",
       "      <td>92.4</td>\n",
       "      <td>86.9</td>\n",
       "    </tr>\n",
       "    <tr>\n",
       "      <th>#40.2) Word Frequency</th>\n",
       "      <td>88.4</td>\n",
       "      <td>76.4</td>\n",
       "    </tr>\n",
       "    <tr>\n",
       "      <th>#43.4) Multiple Returns</th>\n",
       "      <td>89.6</td>\n",
       "      <td>88.8</td>\n",
       "    </tr>\n",
       "    <tr>\n",
       "      <th>#45.3) Adding Up</th>\n",
       "      <td>96.4</td>\n",
       "      <td>95.6</td>\n",
       "    </tr>\n",
       "    <tr>\n",
       "      <th>#45.4) Plus or Minus</th>\n",
       "      <td>87.8</td>\n",
       "      <td>88.6</td>\n",
       "    </tr>\n",
       "    <tr>\n",
       "      <th>#45.5) Fix Names</th>\n",
       "      <td>85.3</td>\n",
       "      <td>85.5</td>\n",
       "    </tr>\n",
       "    <tr>\n",
       "      <th>#45.6) File Size</th>\n",
       "      <td>79.9</td>\n",
       "      <td>81.6</td>\n",
       "    </tr>\n",
       "  </tbody>\n",
       "</table>\n",
       "</div>"
      ],
      "text/plain": [
       "section                   F17   S18\n",
       "name                               \n",
       "#33.3) Cube Elements     92.1  91.1\n",
       "#39.4) Default Name      92.4  86.9\n",
       "#40.2) Word Frequency    88.4  76.4\n",
       "#43.4) Multiple Returns  89.6  88.8\n",
       "#45.3) Adding Up         96.4  95.6\n",
       "#45.4) Plus or Minus     87.8  88.6\n",
       "#45.5) Fix Names         85.3  85.5\n",
       "#45.6) File Size         79.9  81.6"
      ]
     },
     "execution_count": 49,
     "metadata": {},
     "output_type": "execute_result"
    }
   ],
   "source": [
    "# Group sections and assignment names, find percentage rate of correctness\n",
    "completions = attempted.groupby([\"name\", \"section\"]).correct.mean().apply(pretty_percent)\n",
    "# Unstack the data to put \n",
    "completions.unstack()"
   ]
  },
  {
   "cell_type": "code",
   "execution_count": 50,
   "metadata": {},
   "outputs": [
    {
     "data": {
      "image/png": "[encoded data removed]",
      "text/plain": [
       "<matplotlib.figure.Figure at 0x1a1023d08d0>"
      ]
     },
     "metadata": {},
     "output_type": "display_data"
    }
   ],
   "source": [
    "# Plot unstacked data as a bar chart\n",
    "completions.unstack().plot.barh()\n",
    "plt.show()"
   ]
  },
  {
   "cell_type": "code",
   "execution_count": 51,
   "metadata": {},
   "outputs": [
    {
     "name": "stdout",
     "output_type": "stream",
     "text": [
      "#33.3) Cube Elements, False, 32224.0, 0.343459278763\n",
      "#39.4) Default Name, True, 30768.0, 0.0196462743771\n",
      "#40.2) Word Frequency, True, 27726.5, 0.000196173525601\n",
      "#43.4) Multiple Returns, False, 29852.0, 0.382495194428\n",
      "#45.3) Adding Up, False, 31551.0, 0.322763353926\n",
      "#45.4) Plus or Minus, False, 31557.0, 0.393324196918\n",
      "#45.5) Fix Names, False, 31735.5, 0.472194420689\n",
      "#45.6) File Size, False, 31281.0, 0.320138491476\n"
     ]
    }
   ],
   "source": [
    "# Iterate through all the assignments\n",
    "for name in sorted(attempted.name.unique()):\n",
    "    # Get out the assignment's data\n",
    "    assignment = attempted[attempted.name == name]\n",
    "    # Perform Mann-Whitney U\n",
    "    statistic, pvalue = st.mannwhitneyu(assignment[assignment.section==\"S18\"].correct, \n",
    "                                        assignment[assignment.section==\"F17\"].correct)\n",
    "    print(name, pvalue<.05, statistic, pvalue, sep=\", \")"
   ]
  },
  {
   "cell_type": "markdown",
   "metadata": {},
   "source": [
    "Completion rates were similar between semesters. There was significant difference only in #40.2 and #39.4, where the difference was about a little lower in the spring section."
   ]
  },
  {
   "cell_type": "markdown",
   "metadata": {},
   "source": [
    "## Time Spent by Problem"
   ]
  },
  {
   "cell_type": "code",
   "execution_count": 52,
   "metadata": {},
   "outputs": [
    {
     "data": {
      "text/html": [
       "<div>\n",
       "<style>\n",
       "    .dataframe thead tr:only-child th {\n",
       "        text-align: right;\n",
       "    }\n",
       "\n",
       "    .dataframe thead th {\n",
       "        text-align: left;\n",
       "    }\n",
       "\n",
       "    .dataframe tbody tr th {\n",
       "        vertical-align: top;\n",
       "    }\n",
       "</style>\n",
       "<table border=\"1\" class=\"dataframe\">\n",
       "  <thead>\n",
       "    <tr>\n",
       "      <th></th>\n",
       "      <th colspan=\"2\" halign=\"left\">mean</th>\n",
       "      <th colspan=\"2\" halign=\"left\">std</th>\n",
       "    </tr>\n",
       "    <tr>\n",
       "      <th>section</th>\n",
       "      <th>F17</th>\n",
       "      <th>S18</th>\n",
       "      <th>F17</th>\n",
       "      <th>S18</th>\n",
       "    </tr>\n",
       "    <tr>\n",
       "      <th>name</th>\n",
       "      <th></th>\n",
       "      <th></th>\n",
       "      <th></th>\n",
       "      <th></th>\n",
       "    </tr>\n",
       "  </thead>\n",
       "  <tbody>\n",
       "    <tr>\n",
       "      <th>#33.3) Cube Elements</th>\n",
       "      <td>366.703971</td>\n",
       "      <td>406.089362</td>\n",
       "      <td>341.893606</td>\n",
       "      <td>354.393120</td>\n",
       "    </tr>\n",
       "    <tr>\n",
       "      <th>#39.4) Default Name</th>\n",
       "      <td>380.996377</td>\n",
       "      <td>476.330508</td>\n",
       "      <td>379.732351</td>\n",
       "      <td>413.418886</td>\n",
       "    </tr>\n",
       "    <tr>\n",
       "      <th>#40.2) Word Frequency</th>\n",
       "      <td>477.341818</td>\n",
       "      <td>555.611354</td>\n",
       "      <td>335.769820</td>\n",
       "      <td>473.130580</td>\n",
       "    </tr>\n",
       "    <tr>\n",
       "      <th>#43.4) Multiple Returns</th>\n",
       "      <td>341.329630</td>\n",
       "      <td>335.538117</td>\n",
       "      <td>323.101395</td>\n",
       "      <td>312.741449</td>\n",
       "    </tr>\n",
       "    <tr>\n",
       "      <th>#45.3) Adding Up</th>\n",
       "      <td>199.315412</td>\n",
       "      <td>247.403509</td>\n",
       "      <td>167.834496</td>\n",
       "      <td>214.524501</td>\n",
       "    </tr>\n",
       "    <tr>\n",
       "      <th>#45.4) Plus or Minus</th>\n",
       "      <td>661.996416</td>\n",
       "      <td>740.381579</td>\n",
       "      <td>592.115531</td>\n",
       "      <td>604.382700</td>\n",
       "    </tr>\n",
       "    <tr>\n",
       "      <th>#45.5) Fix Names</th>\n",
       "      <td>561.401434</td>\n",
       "      <td>628.438596</td>\n",
       "      <td>534.306621</td>\n",
       "      <td>516.641391</td>\n",
       "    </tr>\n",
       "    <tr>\n",
       "      <th>#45.6) File Size</th>\n",
       "      <td>389.974910</td>\n",
       "      <td>477.114035</td>\n",
       "      <td>351.553944</td>\n",
       "      <td>494.880500</td>\n",
       "    </tr>\n",
       "  </tbody>\n",
       "</table>\n",
       "</div>"
      ],
      "text/plain": [
       "                               mean                     std            \n",
       "section                         F17         S18         F17         S18\n",
       "name                                                                   \n",
       "#33.3) Cube Elements     366.703971  406.089362  341.893606  354.393120\n",
       "#39.4) Default Name      380.996377  476.330508  379.732351  413.418886\n",
       "#40.2) Word Frequency    477.341818  555.611354  335.769820  473.130580\n",
       "#43.4) Multiple Returns  341.329630  335.538117  323.101395  312.741449\n",
       "#45.3) Adding Up         199.315412  247.403509  167.834496  214.524501\n",
       "#45.4) Plus or Minus     661.996416  740.381579  592.115531  604.382700\n",
       "#45.5) Fix Names         561.401434  628.438596  534.306621  516.641391\n",
       "#45.6) File Size         389.974910  477.114035  351.553944  494.880500"
      ]
     },
     "execution_count": 52,
     "metadata": {},
     "output_type": "execute_result"
    }
   ],
   "source": [
    "# Group results by assignment name and student section\n",
    "time_spent = attempted.groupby([\"name\", \"section\"])\n",
    "# Report mean and standard deviation of time spent\n",
    "time_spent.time_on_task.agg(['mean','std']).unstack()"
   ]
  },
  {
   "cell_type": "code",
   "execution_count": 53,
   "metadata": {},
   "outputs": [
    {
     "name": "stderr",
     "output_type": "stream",
     "text": [
      "C:\\Program Files\\Anaconda3\\lib\\site-packages\\numpy\\core\\fromnumeric.py:57: FutureWarning: reshape is deprecated and will raise in a subsequent release. Please use .values.reshape(...) instead\n",
      "  return getattr(obj, method)(*args, **kwds)\n"
     ]
    },
    {
     "data": {
      "image/png": "[encoded data removed]",
      "text/plain": [
       "<matplotlib.figure.Figure at 0x1a1034054e0>"
      ]
     },
     "metadata": {},
     "output_type": "display_data"
    },
    {
     "name": "stdout",
     "output_type": "stream",
     "text": [
      "#33.3) Cube Elements, False, 1.63146362224, 0.202081896927\n"
     ]
    },
    {
     "data": {
      "image/png": "[encoded data removed]",
      "text/plain": [
       "<matplotlib.figure.Figure at 0x1a17e7a4390>"
      ]
     },
     "metadata": {},
     "output_type": "display_data"
    },
    {
     "name": "stdout",
     "output_type": "stream",
     "text": [
      "#39.4) Default Name, True, 7.38773054826, 0.00679053801055\n"
     ]
    },
    {
     "data": {
      "image/png": "[encoded data removed]",
      "text/plain": [
       "<matplotlib.figure.Figure at 0x1a1087853c8>"
      ]
     },
     "metadata": {},
     "output_type": "display_data"
    },
    {
     "name": "stdout",
     "output_type": "stream",
     "text": [
      "#40.2) Word Frequency, True, 4.69014726618, 0.0308062150191\n"
     ]
    },
    {
     "data": {
      "image/png": "[encoded data removed]",
      "text/plain": [
       "<matplotlib.figure.Figure at 0x1a1043be128>"
      ]
     },
     "metadata": {},
     "output_type": "display_data"
    },
    {
     "name": "stdout",
     "output_type": "stream",
     "text": [
      "#43.4) Multiple Returns, False, 0.0403923112981, 0.840798701536\n"
     ]
    },
    {
     "data": {
      "image/png": "[encoded data removed]",
      "text/plain": [
       "<matplotlib.figure.Figure at 0x1a109763f60>"
      ]
     },
     "metadata": {},
     "output_type": "display_data"
    },
    {
     "name": "stdout",
     "output_type": "stream",
     "text": [
      "#45.3) Adding Up, True, 8.01641263709, 0.00482046732805\n"
     ]
    },
    {
     "data": {
      "image/png": "[encoded data removed]",
      "text/plain": [
       "<matplotlib.figure.Figure at 0x1a10b51c320>"
      ]
     },
     "metadata": {},
     "output_type": "display_data"
    },
    {
     "name": "stdout",
     "output_type": "stream",
     "text": [
      "#45.4) Plus or Minus, False, 2.15818776512, 0.142434503576\n"
     ]
    },
    {
     "data": {
      "image/png": "[encoded data removed]",
      "text/plain": [
       "<matplotlib.figure.Figure at 0x1a10675d4e0>"
      ]
     },
     "metadata": {},
     "output_type": "display_data"
    },
    {
     "name": "stdout",
     "output_type": "stream",
     "text": [
      "#45.5) Fix Names, False, 2.03453721896, 0.154378880649\n"
     ]
    },
    {
     "data": {
      "image/png": "[encoded data removed]",
      "text/plain": [
       "<matplotlib.figure.Figure at 0x1a10b4cbb70>"
      ]
     },
     "metadata": {},
     "output_type": "display_data"
    },
    {
     "name": "stdout",
     "output_type": "stream",
     "text": [
      "#45.6) File Size, True, 5.34858070855, 0.0211402336546\n"
     ]
    }
   ],
   "source": [
    "# For each assignment,\n",
    "for name in sorted(attempted.name.unique()):\n",
    "    # Get out the assignment's data\n",
    "    assignment = attempted[attempted.name == name]\n",
    "    # Create a horizontal box plot of time by section\n",
    "    assignment.boxplot(column='time_on_task', by=\"section\", \n",
    "                       # Keep it horizontal and adjust figure size\n",
    "                       vert=False, figsize=(6,1))\n",
    "    # Fix title to be assignment name\n",
    "    plt.title(name)\n",
    "    # remove super title that gets added by default\n",
    "    plt.suptitle(\"\")\n",
    "    # Flush graph to actually make it appear\n",
    "    plt.show()\n",
    "    # Calculate Oneway ANOVA since we have quantitative data per section\n",
    "    statistic, pvalue = st.f_oneway(assignment[assignment.section==\"S18\"].time_on_task, \n",
    "                                    assignment[assignment.section==\"F17\"].time_on_task)\n",
    "    print(name, pvalue<.05, statistic, pvalue, sep=\", \")"
   ]
  },
  {
   "cell_type": "markdown",
   "metadata": {},
   "source": [
    "There seems to be huge variation in the time spent per problem for students (given the standard deviation). The plot appears to be normally distributed but with a long tail, indicating that there are some students who struggle longer with a problem.\n",
    "\n",
    "In a number of problems, the spring students took significantly longer, about a minute or two longer on average."
   ]
  },
  {
   "cell_type": "markdown",
   "metadata": {},
   "source": [
    "## Worked Example Usage"
   ]
  },
  {
   "cell_type": "code",
   "execution_count": 54,
   "metadata": {
    "scrolled": true
   },
   "outputs": [
    {
     "data": {
      "text/html": [
       "<div>\n",
       "<style>\n",
       "    .dataframe thead tr:only-child th {\n",
       "        text-align: right;\n",
       "    }\n",
       "\n",
       "    .dataframe thead th {\n",
       "        text-align: left;\n",
       "    }\n",
       "\n",
       "    .dataframe tbody tr th {\n",
       "        vertical-align: top;\n",
       "    }\n",
       "</style>\n",
       "<table border=\"1\" class=\"dataframe\">\n",
       "  <thead>\n",
       "    <tr style=\"text-align: right;\">\n",
       "      <th>section</th>\n",
       "      <th>S18</th>\n",
       "    </tr>\n",
       "    <tr>\n",
       "      <th>name</th>\n",
       "      <th></th>\n",
       "    </tr>\n",
       "  </thead>\n",
       "  <tbody>\n",
       "    <tr>\n",
       "      <th>#33.3) Cube Elements</th>\n",
       "      <td>29.4</td>\n",
       "    </tr>\n",
       "    <tr>\n",
       "      <th>#39.4) Default Name</th>\n",
       "      <td>54.7</td>\n",
       "    </tr>\n",
       "    <tr>\n",
       "      <th>#40.2) Word Frequency</th>\n",
       "      <td>59.0</td>\n",
       "    </tr>\n",
       "    <tr>\n",
       "      <th>#43.4) Multiple Returns</th>\n",
       "      <td>46.2</td>\n",
       "    </tr>\n",
       "    <tr>\n",
       "      <th>#45.3) Adding Up</th>\n",
       "      <td>33.3</td>\n",
       "    </tr>\n",
       "    <tr>\n",
       "      <th>#45.4) Plus or Minus</th>\n",
       "      <td>60.1</td>\n",
       "    </tr>\n",
       "    <tr>\n",
       "      <th>#45.5) Fix Names</th>\n",
       "      <td>60.5</td>\n",
       "    </tr>\n",
       "    <tr>\n",
       "      <th>#45.6) File Size</th>\n",
       "      <td>41.2</td>\n",
       "    </tr>\n",
       "  </tbody>\n",
       "</table>\n",
       "</div>"
      ],
      "text/plain": [
       "section                   S18\n",
       "name                         \n",
       "#33.3) Cube Elements     29.4\n",
       "#39.4) Default Name      54.7\n",
       "#40.2) Word Frequency    59.0\n",
       "#43.4) Multiple Returns  46.2\n",
       "#45.3) Adding Up         33.3\n",
       "#45.4) Plus or Minus     60.1\n",
       "#45.5) Fix Names         60.5\n",
       "#45.6) File Size         41.2"
      ]
     },
     "execution_count": 54,
     "metadata": {},
     "output_type": "execute_result"
    }
   ],
   "source": [
    "# Group section and assignment names, find percentage rate of Worked Example usage\n",
    "wes = experiment.groupby([\"name\", \"section\"]).used_we.mean().apply(pretty_percent)\n",
    "# Unstack the data to put \n",
    "wes.unstack()"
   ]
  },
  {
   "cell_type": "code",
   "execution_count": 55,
   "metadata": {},
   "outputs": [
    {
     "data": {
      "image/png": "[encoded data removed]",
      "text/plain": [
       "<matplotlib.figure.Figure at 0x1a107112ef0>"
      ]
     },
     "metadata": {},
     "output_type": "display_data"
    }
   ],
   "source": [
    "# Plot unstacked data as a bar chart\n",
    "wes.unstack().plot.barh()\n",
    "plt.show()"
   ]
  },
  {
   "cell_type": "markdown",
   "metadata": {},
   "source": [
    "Worked Example usage varied heavily by problem. In no problem did all students take advantage of the WEs, and in many less than half the students took advantage of them. Given these sharp differences, it will make sense to continue analyzing each question independently."
   ]
  },
  {
   "cell_type": "markdown",
   "metadata": {},
   "source": [
    "## Demographics "
   ]
  },
  {
   "cell_type": "markdown",
   "metadata": {},
   "source": [
    "### Gender breakdown by Semester"
   ]
  },
  {
   "cell_type": "code",
   "execution_count": 56,
   "metadata": {},
   "outputs": [
    {
     "data": {
      "text/html": [
       "<div>\n",
       "<style>\n",
       "    .dataframe thead tr:only-child th {\n",
       "        text-align: right;\n",
       "    }\n",
       "\n",
       "    .dataframe thead th {\n",
       "        text-align: left;\n",
       "    }\n",
       "\n",
       "    .dataframe tbody tr th {\n",
       "        vertical-align: top;\n",
       "    }\n",
       "</style>\n",
       "<table border=\"1\" class=\"dataframe\">\n",
       "  <thead>\n",
       "    <tr style=\"text-align: right;\">\n",
       "      <th>Gender</th>\n",
       "      <th>Female</th>\n",
       "      <th>Male</th>\n",
       "      <th>Prefer not to say</th>\n",
       "    </tr>\n",
       "    <tr>\n",
       "      <th>section</th>\n",
       "      <th></th>\n",
       "      <th></th>\n",
       "      <th></th>\n",
       "    </tr>\n",
       "  </thead>\n",
       "  <tbody>\n",
       "    <tr>\n",
       "      <th>F17</th>\n",
       "      <td>19.0</td>\n",
       "      <td>34.7</td>\n",
       "      <td>0.2</td>\n",
       "    </tr>\n",
       "    <tr>\n",
       "      <th>S18</th>\n",
       "      <td>15.4</td>\n",
       "      <td>30.1</td>\n",
       "      <td>0.6</td>\n",
       "    </tr>\n",
       "  </tbody>\n",
       "</table>\n",
       "</div>"
      ],
      "text/plain": [
       "Gender   Female  Male  Prefer not to say\n",
       "section                                 \n",
       "F17        19.0  34.7                0.2\n",
       "S18        15.4  30.1                0.6"
      ]
     },
     "execution_count": 56,
     "metadata": {},
     "output_type": "execute_result"
    }
   ],
   "source": [
    "(df.groupby([\"section\",\"Gender\"]).size().unstack()/len(df)).apply(pretty_percent) # TODO Fix this, dividing by both sections "
   ]
  },
  {
   "cell_type": "markdown",
   "metadata": {},
   "source": [
    "### Programming Comfort by Semester"
   ]
  },
  {
   "cell_type": "code",
   "execution_count": 57,
   "metadata": {},
   "outputs": [
    {
     "data": {
      "text/html": [
       "<div>\n",
       "<style>\n",
       "    .dataframe thead tr:only-child th {\n",
       "        text-align: right;\n",
       "    }\n",
       "\n",
       "    .dataframe thead th {\n",
       "        text-align: left;\n",
       "    }\n",
       "\n",
       "    .dataframe tbody tr th {\n",
       "        vertical-align: top;\n",
       "    }\n",
       "</style>\n",
       "<table border=\"1\" class=\"dataframe\">\n",
       "  <thead>\n",
       "    <tr style=\"text-align: right;\">\n",
       "      <th>Programming Comfort</th>\n",
       "      <th>Extremely comfortable</th>\n",
       "      <th>Extremely uncomfortable</th>\n",
       "      <th>Moderately comfortable</th>\n",
       "      <th>Moderately uncomfortable</th>\n",
       "      <th>Neither comfortable nor uncomfortable</th>\n",
       "      <th>Slightly comfortable</th>\n",
       "      <th>Slightly uncomfortable</th>\n",
       "    </tr>\n",
       "    <tr>\n",
       "      <th>section</th>\n",
       "      <th></th>\n",
       "      <th></th>\n",
       "      <th></th>\n",
       "      <th></th>\n",
       "      <th></th>\n",
       "      <th></th>\n",
       "      <th></th>\n",
       "    </tr>\n",
       "  </thead>\n",
       "  <tbody>\n",
       "    <tr>\n",
       "      <th>F17</th>\n",
       "      <td>0.4</td>\n",
       "      <td>3.3</td>\n",
       "      <td>9.2</td>\n",
       "      <td>7.7</td>\n",
       "      <td>8.8</td>\n",
       "      <td>13.8</td>\n",
       "      <td>10.7</td>\n",
       "    </tr>\n",
       "    <tr>\n",
       "      <th>S18</th>\n",
       "      <td>1.3</td>\n",
       "      <td>3.1</td>\n",
       "      <td>6.3</td>\n",
       "      <td>7.5</td>\n",
       "      <td>7.7</td>\n",
       "      <td>10.7</td>\n",
       "      <td>9.4</td>\n",
       "    </tr>\n",
       "  </tbody>\n",
       "</table>\n",
       "</div>"
      ],
      "text/plain": [
       "Programming Comfort  Extremely comfortable  Extremely uncomfortable  \\\n",
       "section                                                               \n",
       "F17                                    0.4                      3.3   \n",
       "S18                                    1.3                      3.1   \n",
       "\n",
       "Programming Comfort  Moderately comfortable  Moderately uncomfortable  \\\n",
       "section                                                                 \n",
       "F17                                     9.2                       7.7   \n",
       "S18                                     6.3                       7.5   \n",
       "\n",
       "Programming Comfort  Neither comfortable nor uncomfortable  \\\n",
       "section                                                      \n",
       "F17                                                    8.8   \n",
       "S18                                                    7.7   \n",
       "\n",
       "Programming Comfort  Slightly comfortable  Slightly uncomfortable  \n",
       "section                                                            \n",
       "F17                                  13.8                    10.7  \n",
       "S18                                  10.7                     9.4  "
      ]
     },
     "execution_count": 57,
     "metadata": {},
     "output_type": "execute_result"
    }
   ],
   "source": [
    "# TODO Fix this, dividing by both sections \n",
    "(df.groupby([\"section\", \"Programming Comfort\"]).size().unstack()/len(df)).apply(pretty_percent)#.plot.barh()"
   ]
  },
  {
   "cell_type": "markdown",
   "metadata": {},
   "source": [
    "### Prior Experience By Semester "
   ]
  },
  {
   "cell_type": "code",
   "execution_count": 67,
   "metadata": {},
   "outputs": [
    {
     "data": {
      "text/plain": [
       "section  Prior\n",
       "F17      False     41\n",
       "         True     240\n",
       "S18      False     43\n",
       "         True     197\n",
       "Name: user_name, dtype: int64"
      ]
     },
     "execution_count": 67,
     "metadata": {},
     "output_type": "execute_result"
    }
   ],
   "source": [
    "df.groupby([\"section\", \"Prior\"]).user_name.unique().map(len)"
   ]
  },
  {
   "cell_type": "markdown",
   "metadata": {},
   "source": [
    "### WE Awareness Data"
   ]
  },
  {
   "cell_type": "code",
   "execution_count": null,
   "metadata": {},
   "outputs": [],
   "source": [
    "# TODO Only adds to ~92. Probably need to filter out entries w/o survey data\n",
    "s18DF = df[(df.section == \"S18\")].dropna()\n",
    "(s18DF.groupby(\"Aware?\").size()/len(s18DF)).apply(pretty_percent)"
   ]
  },
  {
   "cell_type": "markdown",
   "metadata": {},
   "source": [
    "## Survey Results"
   ]
  },
  {
   "cell_type": "markdown",
   "metadata": {},
   "source": [
    "### WE Helpfulness Data"
   ]
  },
  {
   "cell_type": "code",
   "execution_count": null,
   "metadata": {},
   "outputs": [],
   "source": [
    "# TODO Only adds to ~92. \n",
    "def helpMap(helpful):\n",
    "    hmap ={\"Strongly disagree\": -2, \"Somewhat disagree\": -1, \"Neither agree or disagree\":0, \n",
    "     \"Somewhat agree\": 1, \"Strongly agree\": 2}\n",
    "    return hmap[helpful]\n",
    "helpful=(s18DF.groupby(\"ExampleWasHelpful\").size()/len(s18DF)).apply(pretty_percent)\n",
    "\n",
    "helpful#.plot.barh()\n"
   ]
  },
  {
   "cell_type": "markdown",
   "metadata": {},
   "source": [
    "### Reported Usage"
   ]
  },
  {
   "cell_type": "code",
   "execution_count": null,
   "metadata": {},
   "outputs": [],
   "source": [
    "(s18DF.groupby(\"ReadFrequency\").size()/len(s18DF)).apply(pretty_percent)"
   ]
  },
  {
   "cell_type": "markdown",
   "metadata": {},
   "source": [
    "### WE Use X Prior Experience vs TOT, Completion, runs"
   ]
  },
  {
   "cell_type": "code",
   "execution_count": 108,
   "metadata": {},
   "outputs": [
    {
     "data": {
      "text/plain": [
       "section  Comfort  used_we\n",
       "F17      False    False      159\n",
       "         True     False      122\n",
       "S18      False    False       97\n",
       "                  True        47\n",
       "         True     False       72\n",
       "                  True        24\n",
       "dtype: int64"
      ]
     },
     "execution_count": 108,
     "metadata": {},
     "output_type": "execute_result"
    }
   ],
   "source": [
    "pa = attempted.drop_duplicates(\"user_name\").groupby([\"section\", \"Comfort\", \"used_we\"])\n",
    "pa.size()"
   ]
  },
  {
   "cell_type": "code",
   "execution_count": 130,
   "metadata": {},
   "outputs": [
    {
     "data": {
      "text/plain": [
       "-0.30311433240682695"
      ]
     },
     "execution_count": 130,
     "metadata": {},
     "output_type": "execute_result"
    }
   ],
   "source": [
    "probs = [\"#39.4) Default Name\", \"#43.4) Multiple Returns\", \"#45.5) Fix Names\", \"#45.6) File Size\"]\n",
    "filtered = corrected[(corrected.name.isin(probs)) & (corrected.section==\"S18\")]\n",
    "filtered.groupby([\"used_we\",  \"Comfort\",\"section\"]).time_on_task.agg([\"mean\", \"std\"])\n",
    "st.mannwhitneyu(filtered[filtered.used_we & filtered.Comfort].time_on_task,\n",
    "                filtered[filtered.used_we & ~filtered.Comfort].time_on_task) \n",
    "cohen_d(filtered[filtered.used_we & filtered.Comfort].time_on_task,\n",
    "                filtered[filtered.used_we & ~filtered.Comfort].time_on_task)\n",
    "# There was a significant difference between students who used the worked examples and had \n",
    "#prior experience vs. those who haad no prior experence,\n",
    "#with a medium negative effect size"
   ]
  },
  {
   "cell_type": "markdown",
   "metadata": {},
   "source": [
    "## More questions\n",
    "\n",
    "What was the difference in [Percentage Correct, Time Spent] of students who used Worked Examples, by problem?\n",
    "\n",
    "What was the percentage of students who had prior experience?\n",
    "\n",
    "What was the difference in [Percentage Correct, Time Spent] of students who had prior experience, by problem?\n",
    "\n",
    "What was the cross tabulated percentage of students who had (prior experience) x (used worked examples)?\n",
    "\n",
    "What was the difference in [Percentage Correct, Time Spent] of students by gender, by problem?\n",
    "\n",
    "What was the cross tabulated percentage of students who had (gender) x (used worked examples)?\n",
    "\n"
   ]
  }
 ],
 "metadata": {
  "kernelspec": {
   "display_name": "Python 3",
   "language": "python",
   "name": "python3"
  },
  "language_info": {
   "codemirror_mode": {
    "name": "ipython",
    "version": 3
   },
   "file_extension": ".py",
   "mimetype": "text/x-python",
   "name": "python",
   "nbconvert_exporter": "python",
   "pygments_lexer": "ipython3",
   "version": "3.6.3"
  }
 },
 "nbformat": 4,
 "nbformat_minor": 2
}
