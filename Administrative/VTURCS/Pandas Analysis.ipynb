{
 "cells": [
  {
   "cell_type": "markdown",
   "metadata": {},
   "source": [
    "# Analysis of Worked Example Data\n",
    "\n",
    "This workbook analyzes student data"
   ]
  },
  {
   "cell_type": "markdown",
   "metadata": {},
   "source": [
    "## Loading\n",
    "First, we load the relevant data and supporting libraries."
   ]
  },
  {
   "cell_type": "code",
   "execution_count": 109,
   "metadata": {},
   "outputs": [],
   "source": [
    "import pandas as pd\n",
    "import matplotlib.pyplot as plt\n",
    "import scipy.stats as st\n",
    "import json\n",
    "from pprint import pprint\n",
    "from numpy import std, mean, sqrt\n",
    "\n",
    "def pretty_percent(a_decimal):\n",
    "    return round(a_decimal*1000)/10\n",
    "def used_we(events):\n",
    "    if not isinstance(events, list):\n",
    "        return False\n",
    "    return any(\"worked_examples\" in event for event in events)\n",
    "def prior_experience(reported):\n",
    "    if not isinstance(reported, list):\n",
    "        return False\n",
    "    return any(reported)\n",
    "\n",
    "def isComfortable(reported):\n",
    "    return \"unc\" not in reported\n",
    "\n",
    "def helpful(reported):\n",
    "    return reported != None and isinstance(reported, str) and \"dis\" not in reported\n",
    "\n",
    "def cohen_d(x,y):\n",
    "    nx = len(x)\n",
    "    ny = len(y)\n",
    "    dof = nx + ny - 2\n",
    "    return (mean(x) - mean(y)) / sqrt(((nx-1)*std(x, ddof=1) ** 2 + (ny-1)*std(y, ddof=1) ** 2) / dof)\n"
   ]
  },
  {
   "cell_type": "code",
   "execution_count": 110,
   "metadata": {},
   "outputs": [],
   "source": [
    "# Anonymized Settings\n",
    "# Information here should be de-anonymized before publication\n",
    "FILENAME = \"cs1064_worked_examples_data.json\"\n",
    "SECTION_MAP = {\"Bart - MWF\": \"S18\",\n",
    "               \"Fall 2017\": \"F17\",\n",
    "               \"Panagiotis - TR\": \"S18-alt\"}\n",
    "def PRIOR_MAP(value):\n",
    "    return [\"Community College\" if \"community\" in answer else\n",
    "            \"University\" if \"Virginia Tech\" in answer else\n",
    "            \"Online\" if \"online\" in answer else\n",
    "            \"High School\" if \"high school\" in answer else\n",
    "            \"\"\n",
    "            for answer in value.split(\",\")]"
   ]
  },
  {
   "cell_type": "code",
   "execution_count": 111,
   "metadata": {},
   "outputs": [],
   "source": [
    "with open(FILENAME, 'r') as log_data:\n",
    "    data = json.load(log_data)"
   ]
  },
  {
   "cell_type": "markdown",
   "metadata": {},
   "source": [
    "### Tidying\n",
    "\n",
    "Restructure the data a little to make it easier to read with Pandas. In particular, we are going to make the data [\"tidy\"](https://en.wikipedia.org/wiki/Tidy_data), where each row is an observation and each column is a feature/variable."
   ]
  },
  {
   "cell_type": "code",
   "execution_count": 112,
   "metadata": {},
   "outputs": [],
   "source": [
    "tidy_data = []\n",
    "for row in data:\n",
    "    if not row['demographics']:\n",
    "        continue\n",
    "    row['user']['user_name'] = row['user'].pop('name')\n",
    "    row['user']['section'] = SECTION_MAP[row['user']['section']]\n",
    "    row['demographics']['Prior Computing Experience'] = PRIOR_MAP(row['demographics']['Prior Computing Experience'])\n",
    "    for assignment_name, assignment in row['assignment'].items():\n",
    "        assignment['name'] = assignment_name\n",
    "        assignment.update(row['demographics'])\n",
    "        assignment.update(row['user'])\n",
    "        if row['survey']:\n",
    "            assignment.update(row['survey'])\n",
    "        else:\n",
    "            assignment.update({'Aware?':None, 'ReadFrequency':None, \n",
    "                               'ReadWhen':None, 'ReadWhy':None, \n",
    "                               'AfterReading':None, 'ExampleWasHelpful':None})\n",
    "        tidy_data.append(assignment)\n",
    "df = pd.DataFrame(tidy_data)"
   ]
  },
  {
   "cell_type": "markdown",
   "metadata": {},
   "source": [
    "### Filtering and Transformation\n",
    "\n",
    "Remove certain students and problems"
   ]
  },
  {
   "cell_type": "code",
   "execution_count": 113,
   "metadata": {},
   "outputs": [],
   "source": [
    "# Filter alternate section to control for instructor\n",
    "df = df[df.section != \"S18-alt\"]\n",
    "# Create column for whether they used the worked examples\n",
    "df['used_we'] = df.events.apply(used_we)\n",
    "df['Prior'] = df[\"Prior Computing Experience\"].apply(prior_experience)\n",
    "df['Comfort'] = df[\"Programming Comfort\"].apply(isComfortable)\n",
    "df[\"Helpful\"] = df[\"ExampleWasHelpful\"].apply(helpful) #TODO NaN float is some rows \n",
    "# Filtered subsection of students \n",
    "attempted = df[df.attempted]\n",
    "corrected = df[df.correct]\n",
    "# Spring only data\n",
    "experiment = attempted[attempted.section == \"S18\"]"
   ]
  },
  {
   "cell_type": "markdown",
   "metadata": {},
   "source": [
    "### Preview Data"
   ]
  },
  {
   "cell_type": "code",
   "execution_count": 114,
   "metadata": {},
   "outputs": [
    {
     "data": {
      "text/html": [
       "<div>\n",
       "<style scoped>\n",
       "    .dataframe tbody tr th:only-of-type {\n",
       "        vertical-align: middle;\n",
       "    }\n",
       "\n",
       "    .dataframe tbody tr th {\n",
       "        vertical-align: top;\n",
       "    }\n",
       "\n",
       "    .dataframe thead th {\n",
       "        text-align: right;\n",
       "    }\n",
       "</style>\n",
       "<table border=\"1\" class=\"dataframe\">\n",
       "  <thead>\n",
       "    <tr style=\"text-align: right;\">\n",
       "      <th></th>\n",
       "      <th>AfterReading</th>\n",
       "      <th>Aware?</th>\n",
       "      <th>Computer Comfort</th>\n",
       "      <th>ExampleWasHelpful</th>\n",
       "      <th>Gender</th>\n",
       "      <th>Prior Computing Experience</th>\n",
       "      <th>Programming Comfort</th>\n",
       "      <th>ReadFrequency</th>\n",
       "      <th>ReadWhen</th>\n",
       "      <th>ReadWhy</th>\n",
       "      <th>...</th>\n",
       "      <th>runs</th>\n",
       "      <th>section</th>\n",
       "      <th>time_on_task</th>\n",
       "      <th>user_id</th>\n",
       "      <th>user_name</th>\n",
       "      <th>version</th>\n",
       "      <th>used_we</th>\n",
       "      <th>Prior</th>\n",
       "      <th>Comfort</th>\n",
       "      <th>Helpful</th>\n",
       "    </tr>\n",
       "  </thead>\n",
       "  <tbody>\n",
       "    <tr>\n",
       "      <th>2125</th>\n",
       "      <td>None</td>\n",
       "      <td>None</td>\n",
       "      <td>Slightly comfortable</td>\n",
       "      <td>None</td>\n",
       "      <td>Male</td>\n",
       "      <td>[High School]</td>\n",
       "      <td>Slightly comfortable</td>\n",
       "      <td>None</td>\n",
       "      <td>None</td>\n",
       "      <td>None</td>\n",
       "      <td>...</td>\n",
       "      <td>1</td>\n",
       "      <td>F17</td>\n",
       "      <td>195.0</td>\n",
       "      <td>778</td>\n",
       "      <td>Ledyba</td>\n",
       "      <td>34</td>\n",
       "      <td>False</td>\n",
       "      <td>True</td>\n",
       "      <td>True</td>\n",
       "      <td>False</td>\n",
       "    </tr>\n",
       "    <tr>\n",
       "      <th>3843</th>\n",
       "      <td>None</td>\n",
       "      <td>None</td>\n",
       "      <td>Slightly comfortable</td>\n",
       "      <td>None</td>\n",
       "      <td>Male</td>\n",
       "      <td>[Community College]</td>\n",
       "      <td>Slightly comfortable</td>\n",
       "      <td>None</td>\n",
       "      <td>None</td>\n",
       "      <td>None</td>\n",
       "      <td>...</td>\n",
       "      <td>31</td>\n",
       "      <td>F17</td>\n",
       "      <td>1093.0</td>\n",
       "      <td>957</td>\n",
       "      <td>Starly</td>\n",
       "      <td>153</td>\n",
       "      <td>False</td>\n",
       "      <td>True</td>\n",
       "      <td>True</td>\n",
       "      <td>False</td>\n",
       "    </tr>\n",
       "    <tr>\n",
       "      <th>1590</th>\n",
       "      <td>None</td>\n",
       "      <td>None</td>\n",
       "      <td>Moderately comfortable</td>\n",
       "      <td>None</td>\n",
       "      <td>Male</td>\n",
       "      <td>[High School]</td>\n",
       "      <td>Slightly uncomfortable</td>\n",
       "      <td>None</td>\n",
       "      <td>None</td>\n",
       "      <td>None</td>\n",
       "      <td>...</td>\n",
       "      <td>22</td>\n",
       "      <td>F17</td>\n",
       "      <td>631.0</td>\n",
       "      <td>950</td>\n",
       "      <td>Grotle</td>\n",
       "      <td>76</td>\n",
       "      <td>False</td>\n",
       "      <td>True</td>\n",
       "      <td>False</td>\n",
       "      <td>False</td>\n",
       "    </tr>\n",
       "    <tr>\n",
       "      <th>3478</th>\n",
       "      <td>Better understood the concept being taught</td>\n",
       "      <td>Yes</td>\n",
       "      <td>Moderately comfortable</td>\n",
       "      <td>Somewhat agree</td>\n",
       "      <td>Male</td>\n",
       "      <td>[University, High School]</td>\n",
       "      <td>Moderately uncomfortable</td>\n",
       "      <td>Always</td>\n",
       "      <td>When stuck partway through doing the problems</td>\n",
       "      <td>Because my answer to the problem wasn't workin...</td>\n",
       "      <td>...</td>\n",
       "      <td>7</td>\n",
       "      <td>S18</td>\n",
       "      <td>743.0</td>\n",
       "      <td>1800</td>\n",
       "      <td>Shelgon</td>\n",
       "      <td>54</td>\n",
       "      <td>True</td>\n",
       "      <td>True</td>\n",
       "      <td>False</td>\n",
       "      <td>True</td>\n",
       "    </tr>\n",
       "    <tr>\n",
       "      <th>3819</th>\n",
       "      <td>None</td>\n",
       "      <td>None</td>\n",
       "      <td>Moderately comfortable</td>\n",
       "      <td>None</td>\n",
       "      <td>Female</td>\n",
       "      <td>[]</td>\n",
       "      <td>Slightly comfortable</td>\n",
       "      <td>None</td>\n",
       "      <td>None</td>\n",
       "      <td>None</td>\n",
       "      <td>...</td>\n",
       "      <td>34</td>\n",
       "      <td>F17</td>\n",
       "      <td>385.0</td>\n",
       "      <td>921</td>\n",
       "      <td>Spritzee</td>\n",
       "      <td>40</td>\n",
       "      <td>False</td>\n",
       "      <td>False</td>\n",
       "      <td>True</td>\n",
       "      <td>False</td>\n",
       "    </tr>\n",
       "  </tbody>\n",
       "</table>\n",
       "<p>5 rows × 24 columns</p>\n",
       "</div>"
      ],
      "text/plain": [
       "                                    AfterReading Aware?  \\\n",
       "2125                                        None   None   \n",
       "3843                                        None   None   \n",
       "1590                                        None   None   \n",
       "3478  Better understood the concept being taught    Yes   \n",
       "3819                                        None   None   \n",
       "\n",
       "            Computer Comfort ExampleWasHelpful  Gender  \\\n",
       "2125    Slightly comfortable              None    Male   \n",
       "3843    Slightly comfortable              None    Male   \n",
       "1590  Moderately comfortable              None    Male   \n",
       "3478  Moderately comfortable    Somewhat agree    Male   \n",
       "3819  Moderately comfortable              None  Female   \n",
       "\n",
       "     Prior Computing Experience       Programming Comfort ReadFrequency  \\\n",
       "2125              [High School]      Slightly comfortable          None   \n",
       "3843        [Community College]      Slightly comfortable          None   \n",
       "1590              [High School]    Slightly uncomfortable          None   \n",
       "3478  [University, High School]  Moderately uncomfortable        Always   \n",
       "3819                         []      Slightly comfortable          None   \n",
       "\n",
       "                                           ReadWhen  \\\n",
       "2125                                           None   \n",
       "3843                                           None   \n",
       "1590                                           None   \n",
       "3478  When stuck partway through doing the problems   \n",
       "3819                                           None   \n",
       "\n",
       "                                                ReadWhy   ...     runs  \\\n",
       "2125                                               None   ...        1   \n",
       "3843                                               None   ...       31   \n",
       "1590                                               None   ...       22   \n",
       "3478  Because my answer to the problem wasn't workin...   ...        7   \n",
       "3819                                               None   ...       34   \n",
       "\n",
       "      section time_on_task user_id  user_name version  used_we  Prior Comfort  \\\n",
       "2125      F17        195.0     778     Ledyba      34    False   True    True   \n",
       "3843      F17       1093.0     957     Starly     153    False   True    True   \n",
       "1590      F17        631.0     950     Grotle      76    False   True   False   \n",
       "3478      S18        743.0    1800    Shelgon      54     True   True   False   \n",
       "3819      F17        385.0     921   Spritzee      40    False  False    True   \n",
       "\n",
       "      Helpful  \n",
       "2125    False  \n",
       "3843    False  \n",
       "1590    False  \n",
       "3478     True  \n",
       "3819    False  \n",
       "\n",
       "[5 rows x 24 columns]"
      ]
     },
     "execution_count": 114,
     "metadata": {},
     "output_type": "execute_result"
    }
   ],
   "source": [
    "# Pick five entries at random\n",
    "df.sample(5)"
   ]
  },
  {
   "cell_type": "markdown",
   "metadata": {},
   "source": [
    "## Completion Rates by Section\n"
   ]
  },
  {
   "cell_type": "code",
   "execution_count": 115,
   "metadata": {},
   "outputs": [
    {
     "data": {
      "text/html": [
       "<div>\n",
       "<style scoped>\n",
       "    .dataframe tbody tr th:only-of-type {\n",
       "        vertical-align: middle;\n",
       "    }\n",
       "\n",
       "    .dataframe tbody tr th {\n",
       "        vertical-align: top;\n",
       "    }\n",
       "\n",
       "    .dataframe thead th {\n",
       "        text-align: right;\n",
       "    }\n",
       "</style>\n",
       "<table border=\"1\" class=\"dataframe\">\n",
       "  <thead>\n",
       "    <tr style=\"text-align: right;\">\n",
       "      <th></th>\n",
       "      <th>correct</th>\n",
       "      <th>incomplete</th>\n",
       "      <th>not attempted</th>\n",
       "    </tr>\n",
       "    <tr>\n",
       "      <th>section</th>\n",
       "      <th></th>\n",
       "      <th></th>\n",
       "      <th></th>\n",
       "    </tr>\n",
       "  </thead>\n",
       "  <tbody>\n",
       "    <tr>\n",
       "      <th>F17</th>\n",
       "      <td>87.6</td>\n",
       "      <td>10.9</td>\n",
       "      <td>1.5</td>\n",
       "    </tr>\n",
       "    <tr>\n",
       "      <th>S18</th>\n",
       "      <td>83.0</td>\n",
       "      <td>12.6</td>\n",
       "      <td>4.4</td>\n",
       "    </tr>\n",
       "  </tbody>\n",
       "</table>\n",
       "</div>"
      ],
      "text/plain": [
       "         correct  incomplete  not attempted\n",
       "section                                    \n",
       "F17         87.6        10.9            1.5\n",
       "S18         83.0        12.6            4.4"
      ]
     },
     "execution_count": 115,
     "metadata": {},
     "output_type": "execute_result"
    }
   ],
   "source": [
    "# Group by section, compute mean (with binary outcomes, that corresponds to percent)\n",
    "completions = df.groupby([\"section\"])[['correct', 'attempted']].mean()\n",
    "# Find the students who attempted but did not get it correct\n",
    "completions['incomplete'] = completions['attempted'] - completions['correct']\n",
    "# Find the students who never even attempted it\n",
    "completions['not attempted'] = 1 - completions['attempted']\n",
    "# Make the numbers into percentages and print out the table\n",
    "completions[['correct', 'incomplete', 'not attempted']].apply(pretty_percent)"
   ]
  },
  {
   "cell_type": "code",
   "execution_count": 116,
   "metadata": {},
   "outputs": [
    {
     "data": {
      "image/png": "[encoded data removed]",
      "text/plain": [
       "<Figure size 432x288 with 1 Axes>"
      ]
     },
     "metadata": {},
     "output_type": "display_data"
    }
   ],
   "source": [
    "# Make a horizontal stacked bar chart of the interesting columns\n",
    "completions[['correct', 'incomplete', 'not attempted']].plot.barh(stacked=True)\n",
    "plt.show()"
   ]
  },
  {
   "cell_type": "code",
   "execution_count": 117,
   "metadata": {},
   "outputs": [
    {
     "data": {
      "text/plain": [
       "MannwhitneyuResult(statistic=2057412.0, pvalue=1.0182357659628822e-05)"
      ]
     },
     "execution_count": 117,
     "metadata": {},
     "output_type": "execute_result"
    }
   ],
   "source": [
    "# Perform a Mann-Whitney U for each section's data\n",
    "st.mannwhitneyu(df[df.section==\"S18\"].correct, df[df.section==\"F17\"].correct)"
   ]
  },
  {
   "cell_type": "markdown",
   "metadata": {},
   "source": [
    "From the above, we see that there was a significant but small difference in the number of completions between each semester (roughly 5%), owing largely to fewer students attempting the problems (3%).\n",
    "\n",
    "A Mann-whitney U test was chosen instead of a T-Test because the outcome variable was dichotomous, but a Chi Square test was not used to avoid unnecessary complexity. Experimentation suggested that all three tests had the same outcome.\n",
    "\n",
    "Subsequent analyses will filter out students who did not attempt a problem."
   ]
  },
  {
   "cell_type": "markdown",
   "metadata": {},
   "source": [
    "## Completion Rates by Problem"
   ]
  },
  {
   "cell_type": "code",
   "execution_count": 118,
   "metadata": {},
   "outputs": [
    {
     "data": {
      "text/html": [
       "<div>\n",
       "<style scoped>\n",
       "    .dataframe tbody tr th:only-of-type {\n",
       "        vertical-align: middle;\n",
       "    }\n",
       "\n",
       "    .dataframe tbody tr th {\n",
       "        vertical-align: top;\n",
       "    }\n",
       "\n",
       "    .dataframe thead th {\n",
       "        text-align: right;\n",
       "    }\n",
       "</style>\n",
       "<table border=\"1\" class=\"dataframe\">\n",
       "  <thead>\n",
       "    <tr style=\"text-align: right;\">\n",
       "      <th>section</th>\n",
       "      <th>F17</th>\n",
       "      <th>S18</th>\n",
       "    </tr>\n",
       "    <tr>\n",
       "      <th>name</th>\n",
       "      <th></th>\n",
       "      <th></th>\n",
       "    </tr>\n",
       "  </thead>\n",
       "  <tbody>\n",
       "    <tr>\n",
       "      <th>#33.3) Cube Elements</th>\n",
       "      <td>92.1</td>\n",
       "      <td>91.1</td>\n",
       "    </tr>\n",
       "    <tr>\n",
       "      <th>#39.4) Default Name</th>\n",
       "      <td>92.4</td>\n",
       "      <td>86.9</td>\n",
       "    </tr>\n",
       "    <tr>\n",
       "      <th>#40.2) Word Frequency</th>\n",
       "      <td>88.4</td>\n",
       "      <td>76.4</td>\n",
       "    </tr>\n",
       "    <tr>\n",
       "      <th>#43.4) Multiple Returns</th>\n",
       "      <td>89.6</td>\n",
       "      <td>88.8</td>\n",
       "    </tr>\n",
       "    <tr>\n",
       "      <th>#45.3) Adding Up</th>\n",
       "      <td>96.4</td>\n",
       "      <td>95.6</td>\n",
       "    </tr>\n",
       "    <tr>\n",
       "      <th>#45.4) Plus or Minus</th>\n",
       "      <td>87.8</td>\n",
       "      <td>88.6</td>\n",
       "    </tr>\n",
       "    <tr>\n",
       "      <th>#45.5) Fix Names</th>\n",
       "      <td>85.3</td>\n",
       "      <td>85.5</td>\n",
       "    </tr>\n",
       "    <tr>\n",
       "      <th>#45.6) File Size</th>\n",
       "      <td>79.9</td>\n",
       "      <td>81.6</td>\n",
       "    </tr>\n",
       "  </tbody>\n",
       "</table>\n",
       "</div>"
      ],
      "text/plain": [
       "section                   F17   S18\n",
       "name                               \n",
       "#33.3) Cube Elements     92.1  91.1\n",
       "#39.4) Default Name      92.4  86.9\n",
       "#40.2) Word Frequency    88.4  76.4\n",
       "#43.4) Multiple Returns  89.6  88.8\n",
       "#45.3) Adding Up         96.4  95.6\n",
       "#45.4) Plus or Minus     87.8  88.6\n",
       "#45.5) Fix Names         85.3  85.5\n",
       "#45.6) File Size         79.9  81.6"
      ]
     },
     "execution_count": 118,
     "metadata": {},
     "output_type": "execute_result"
    }
   ],
   "source": [
    "# Group sections and assignment names, find percentage rate of correctness\n",
    "completions = attempted.groupby([\"name\", \"section\"]).correct.mean().apply(pretty_percent)\n",
    "# Unstack the data to put \n",
    "completions.unstack()"
   ]
  },
  {
   "cell_type": "code",
   "execution_count": 119,
   "metadata": {},
   "outputs": [
    {
     "data": {
      "image/png": "[encoded data removed]",
      "text/plain": [
       "<Figure size 432x288 with 1 Axes>"
      ]
     },
     "metadata": {},
     "output_type": "display_data"
    }
   ],
   "source": [
    "# Plot unstacked data as a bar chart\n",
    "completions.unstack().plot.barh(title=\"Completion Rates by Problem\")\n",
    "plt.show()"
   ]
  },
  {
   "cell_type": "code",
   "execution_count": 120,
   "metadata": {},
   "outputs": [
    {
     "name": "stdout",
     "output_type": "stream",
     "text": [
      "#33.3) Cube Elements, False, 32224.0, 0.3434592787627986\n",
      "#39.4) Default Name, True, 30768.0, 0.019646274377128427\n",
      "#40.2) Word Frequency, True, 27726.5, 0.00019617352560056509\n",
      "#43.4) Multiple Returns, False, 29852.0, 0.38249519442839575\n",
      "#45.3) Adding Up, False, 31551.0, 0.3227633539256921\n",
      "#45.4) Plus or Minus, False, 31557.0, 0.3933241969176377\n",
      "#45.5) Fix Names, False, 31735.5, 0.47219442068858675\n",
      "#45.6) File Size, False, 31281.0, 0.32013849147564566\n"
     ]
    }
   ],
   "source": [
    "# Iterate through all the assignments\n",
    "for name in sorted(attempted.name.unique()):\n",
    "    # Get out the assignment's data\n",
    "    assignment = attempted[attempted.name == name]\n",
    "    # Perform Mann-Whitney U\n",
    "    statistic, pvalue = st.mannwhitneyu(assignment[assignment.section==\"S18\"].correct, \n",
    "                                        assignment[assignment.section==\"F17\"].correct)\n",
    "    print(name, pvalue<.05, statistic, pvalue, sep=\", \")"
   ]
  },
  {
   "cell_type": "markdown",
   "metadata": {},
   "source": [
    "Completion rates were similar between semesters. There was significant difference only in #40.2 and #39.4, where the difference was about a little lower in the spring section."
   ]
  },
  {
   "cell_type": "markdown",
   "metadata": {},
   "source": [
    "## Time Spent by Problem"
   ]
  },
  {
   "cell_type": "code",
   "execution_count": 121,
   "metadata": {},
   "outputs": [
    {
     "data": {
      "text/html": [
       "<div>\n",
       "<style scoped>\n",
       "    .dataframe tbody tr th:only-of-type {\n",
       "        vertical-align: middle;\n",
       "    }\n",
       "\n",
       "    .dataframe tbody tr th {\n",
       "        vertical-align: top;\n",
       "    }\n",
       "\n",
       "    .dataframe thead tr th {\n",
       "        text-align: left;\n",
       "    }\n",
       "\n",
       "    .dataframe thead tr:last-of-type th {\n",
       "        text-align: right;\n",
       "    }\n",
       "</style>\n",
       "<table border=\"1\" class=\"dataframe\">\n",
       "  <thead>\n",
       "    <tr>\n",
       "      <th></th>\n",
       "      <th colspan=\"2\" halign=\"left\">mean</th>\n",
       "      <th colspan=\"2\" halign=\"left\">std</th>\n",
       "    </tr>\n",
       "    <tr>\n",
       "      <th>section</th>\n",
       "      <th>F17</th>\n",
       "      <th>S18</th>\n",
       "      <th>F17</th>\n",
       "      <th>S18</th>\n",
       "    </tr>\n",
       "    <tr>\n",
       "      <th>name</th>\n",
       "      <th></th>\n",
       "      <th></th>\n",
       "      <th></th>\n",
       "      <th></th>\n",
       "    </tr>\n",
       "  </thead>\n",
       "  <tbody>\n",
       "    <tr>\n",
       "      <th>#33.3) Cube Elements</th>\n",
       "      <td>366.703971</td>\n",
       "      <td>406.089362</td>\n",
       "      <td>341.893606</td>\n",
       "      <td>354.393120</td>\n",
       "    </tr>\n",
       "    <tr>\n",
       "      <th>#39.4) Default Name</th>\n",
       "      <td>380.996377</td>\n",
       "      <td>476.330508</td>\n",
       "      <td>379.732351</td>\n",
       "      <td>413.418886</td>\n",
       "    </tr>\n",
       "    <tr>\n",
       "      <th>#40.2) Word Frequency</th>\n",
       "      <td>477.341818</td>\n",
       "      <td>555.611354</td>\n",
       "      <td>335.769820</td>\n",
       "      <td>473.130580</td>\n",
       "    </tr>\n",
       "    <tr>\n",
       "      <th>#43.4) Multiple Returns</th>\n",
       "      <td>341.329630</td>\n",
       "      <td>335.538117</td>\n",
       "      <td>323.101395</td>\n",
       "      <td>312.741449</td>\n",
       "    </tr>\n",
       "    <tr>\n",
       "      <th>#45.3) Adding Up</th>\n",
       "      <td>199.315412</td>\n",
       "      <td>247.403509</td>\n",
       "      <td>167.834496</td>\n",
       "      <td>214.524501</td>\n",
       "    </tr>\n",
       "    <tr>\n",
       "      <th>#45.4) Plus or Minus</th>\n",
       "      <td>661.996416</td>\n",
       "      <td>740.381579</td>\n",
       "      <td>592.115531</td>\n",
       "      <td>604.382700</td>\n",
       "    </tr>\n",
       "    <tr>\n",
       "      <th>#45.5) Fix Names</th>\n",
       "      <td>561.401434</td>\n",
       "      <td>628.438596</td>\n",
       "      <td>534.306621</td>\n",
       "      <td>516.641391</td>\n",
       "    </tr>\n",
       "    <tr>\n",
       "      <th>#45.6) File Size</th>\n",
       "      <td>389.974910</td>\n",
       "      <td>477.114035</td>\n",
       "      <td>351.553944</td>\n",
       "      <td>494.880500</td>\n",
       "    </tr>\n",
       "  </tbody>\n",
       "</table>\n",
       "</div>"
      ],
      "text/plain": [
       "                               mean                     std            \n",
       "section                         F17         S18         F17         S18\n",
       "name                                                                   \n",
       "#33.3) Cube Elements     366.703971  406.089362  341.893606  354.393120\n",
       "#39.4) Default Name      380.996377  476.330508  379.732351  413.418886\n",
       "#40.2) Word Frequency    477.341818  555.611354  335.769820  473.130580\n",
       "#43.4) Multiple Returns  341.329630  335.538117  323.101395  312.741449\n",
       "#45.3) Adding Up         199.315412  247.403509  167.834496  214.524501\n",
       "#45.4) Plus or Minus     661.996416  740.381579  592.115531  604.382700\n",
       "#45.5) Fix Names         561.401434  628.438596  534.306621  516.641391\n",
       "#45.6) File Size         389.974910  477.114035  351.553944  494.880500"
      ]
     },
     "execution_count": 121,
     "metadata": {},
     "output_type": "execute_result"
    }
   ],
   "source": [
    "# Group results by assignment name and student section\n",
    "time_spent = attempted.groupby([\"name\", \"section\"])\n",
    "# Report mean and standard deviation of time spent\n",
    "time_spent.time_on_task.agg(['mean','std']).unstack()"
   ]
  },
  {
   "cell_type": "code",
   "execution_count": 122,
   "metadata": {},
   "outputs": [
    {
     "data": {
      "image/png": "[encoded data removed]",
      "text/plain": [
       "<Figure size 432x72 with 1 Axes>"
      ]
     },
     "metadata": {},
     "output_type": "display_data"
    },
    {
     "name": "stdout",
     "output_type": "stream",
     "text": [
      "#33.3) Cube Elements, False, 1.6314636222401946, 0.20208189692738643\n"
     ]
    },
    {
     "data": {
      "image/png": "[encoded data removed]",
      "text/plain": [
       "<Figure size 432x72 with 1 Axes>"
      ]
     },
     "metadata": {},
     "output_type": "display_data"
    },
    {
     "name": "stdout",
     "output_type": "stream",
     "text": [
      "#39.4) Default Name, True, 7.387730548258215, 0.0067905380105535585\n"
     ]
    },
    {
     "data": {
      "image/png": "[encoded data removed]",
      "text/plain": [
       "<Figure size 432x72 with 1 Axes>"
      ]
     },
     "metadata": {},
     "output_type": "display_data"
    },
    {
     "name": "stdout",
     "output_type": "stream",
     "text": [
      "#40.2) Word Frequency, True, 4.6901472661800545, 0.030806215019116255\n"
     ]
    },
    {
     "data": {
      "image/png": "[encoded data removed]",
      "text/plain": [
       "<Figure size 432x72 with 1 Axes>"
      ]
     },
     "metadata": {},
     "output_type": "display_data"
    },
    {
     "name": "stdout",
     "output_type": "stream",
     "text": [
      "#43.4) Multiple Returns, False, 0.04039231129812838, 0.8407987015357437\n"
     ]
    },
    {
     "data": {
      "image/png": "[encoded data removed]",
      "text/plain": [
       "<Figure size 432x72 with 1 Axes>"
      ]
     },
     "metadata": {},
     "output_type": "display_data"
    },
    {
     "name": "stdout",
     "output_type": "stream",
     "text": [
      "#45.3) Adding Up, True, 8.016412637091296, 0.004820467328048352\n"
     ]
    },
    {
     "data": {
      "image/png": "[encoded data removed]",
      "text/plain": [
       "<Figure size 432x72 with 1 Axes>"
      ]
     },
     "metadata": {},
     "output_type": "display_data"
    },
    {
     "name": "stdout",
     "output_type": "stream",
     "text": [
      "#45.4) Plus or Minus, False, 2.1581877651162182, 0.1424345035755057\n"
     ]
    },
    {
     "data": {
      "image/png": "[encoded data removed]",
      "text/plain": [
       "<Figure size 432x72 with 1 Axes>"
      ]
     },
     "metadata": {},
     "output_type": "display_data"
    },
    {
     "name": "stdout",
     "output_type": "stream",
     "text": [
      "#45.5) Fix Names, False, 2.034537218956493, 0.15437888064927924\n"
     ]
    },
    {
     "data": {
      "image/png": "[encoded data removed]",
      "text/plain": [
       "<Figure size 432x72 with 1 Axes>"
      ]
     },
     "metadata": {},
     "output_type": "display_data"
    },
    {
     "name": "stdout",
     "output_type": "stream",
     "text": [
      "#45.6) File Size, True, 5.348580708550297, 0.021140233654580873\n"
     ]
    }
   ],
   "source": [
    "# For each assignment,\n",
    "for name in sorted(attempted.name.unique()):\n",
    "    # Get out the assignment's data\n",
    "    assignment = attempted[attempted.name == name]\n",
    "    # Create a horizontal box plot of time by section\n",
    "    assignment.boxplot(column='time_on_task', by=\"section\", \n",
    "                       # Keep it horizontal and adjust figure size\n",
    "                       vert=False, figsize=(6,1))\n",
    "    # Fix title to be assignment name\n",
    "    plt.title(name)\n",
    "    # remove super title that gets added by default\n",
    "    plt.suptitle(\"\")\n",
    "    # Flush graph to actually make it appear\n",
    "    plt.show()\n",
    "    # Calculate Oneway ANOVA since we have quantitative data per section\n",
    "    statistic, pvalue = st.f_oneway(assignment[assignment.section==\"S18\"].time_on_task, \n",
    "                                    assignment[assignment.section==\"F17\"].time_on_task)\n",
    "    print(name, pvalue<.05, statistic, pvalue, sep=\", \")"
   ]
  },
  {
   "cell_type": "markdown",
   "metadata": {},
   "source": [
    "There seems to be huge variation in the time spent per problem for students (given the standard deviation). The plot appears to be normally distributed but with a long tail, indicating that there are some students who struggle longer with a problem.\n",
    "\n",
    "In a number of problems, the spring students took significantly longer, about a minute or two longer on average."
   ]
  },
  {
   "cell_type": "markdown",
   "metadata": {},
   "source": [
    "## Worked Example Usage"
   ]
  },
  {
   "cell_type": "code",
   "execution_count": 123,
   "metadata": {
    "scrolled": true
   },
   "outputs": [
    {
     "data": {
      "text/html": [
       "<div>\n",
       "<style scoped>\n",
       "    .dataframe tbody tr th:only-of-type {\n",
       "        vertical-align: middle;\n",
       "    }\n",
       "\n",
       "    .dataframe tbody tr th {\n",
       "        vertical-align: top;\n",
       "    }\n",
       "\n",
       "    .dataframe thead th {\n",
       "        text-align: right;\n",
       "    }\n",
       "</style>\n",
       "<table border=\"1\" class=\"dataframe\">\n",
       "  <thead>\n",
       "    <tr style=\"text-align: right;\">\n",
       "      <th>section</th>\n",
       "      <th>S18</th>\n",
       "    </tr>\n",
       "    <tr>\n",
       "      <th>name</th>\n",
       "      <th></th>\n",
       "    </tr>\n",
       "  </thead>\n",
       "  <tbody>\n",
       "    <tr>\n",
       "      <th>#33.3) Cube Elements</th>\n",
       "      <td>29.4</td>\n",
       "    </tr>\n",
       "    <tr>\n",
       "      <th>#39.4) Default Name</th>\n",
       "      <td>54.7</td>\n",
       "    </tr>\n",
       "    <tr>\n",
       "      <th>#40.2) Word Frequency</th>\n",
       "      <td>59.0</td>\n",
       "    </tr>\n",
       "    <tr>\n",
       "      <th>#43.4) Multiple Returns</th>\n",
       "      <td>46.2</td>\n",
       "    </tr>\n",
       "    <tr>\n",
       "      <th>#45.3) Adding Up</th>\n",
       "      <td>33.3</td>\n",
       "    </tr>\n",
       "    <tr>\n",
       "      <th>#45.4) Plus or Minus</th>\n",
       "      <td>60.1</td>\n",
       "    </tr>\n",
       "    <tr>\n",
       "      <th>#45.5) Fix Names</th>\n",
       "      <td>60.5</td>\n",
       "    </tr>\n",
       "    <tr>\n",
       "      <th>#45.6) File Size</th>\n",
       "      <td>41.2</td>\n",
       "    </tr>\n",
       "  </tbody>\n",
       "</table>\n",
       "</div>"
      ],
      "text/plain": [
       "section                   S18\n",
       "name                         \n",
       "#33.3) Cube Elements     29.4\n",
       "#39.4) Default Name      54.7\n",
       "#40.2) Word Frequency    59.0\n",
       "#43.4) Multiple Returns  46.2\n",
       "#45.3) Adding Up         33.3\n",
       "#45.4) Plus or Minus     60.1\n",
       "#45.5) Fix Names         60.5\n",
       "#45.6) File Size         41.2"
      ]
     },
     "execution_count": 123,
     "metadata": {},
     "output_type": "execute_result"
    }
   ],
   "source": [
    "# Group section and assignment names, find percentage rate of Worked Example usage\n",
    "wes = experiment.groupby([\"name\", \"section\"]).used_we.mean().apply(pretty_percent)\n",
    "# Unstack the data to put \n",
    "wes.unstack()"
   ]
  },
  {
   "cell_type": "code",
   "execution_count": 124,
   "metadata": {},
   "outputs": [
    {
     "data": {
      "image/png": "[encoded data removed]",
      "text/plain": [
       "<Figure size 432x288 with 1 Axes>"
      ]
     },
     "metadata": {},
     "output_type": "display_data"
    }
   ],
   "source": [
    "# Plot unstacked data as a bar chart\n",
    "wes.unstack().plot.barh()\n",
    "plt.show()"
   ]
  },
  {
   "cell_type": "markdown",
   "metadata": {},
   "source": [
    "Worked Example usage varied heavily by problem. In no problem did all students take advantage of the WEs, and in many less than half the students took advantage of them. Given these sharp differences, it will make sense to continue analyzing each question independently."
   ]
  },
  {
   "cell_type": "markdown",
   "metadata": {},
   "source": [
    "## Demographics "
   ]
  },
  {
   "cell_type": "markdown",
   "metadata": {},
   "source": [
    "### Gender breakdown by Semester"
   ]
  },
  {
   "cell_type": "code",
   "execution_count": 125,
   "metadata": {},
   "outputs": [
    {
     "data": {
      "text/html": [
       "<div>\n",
       "<style scoped>\n",
       "    .dataframe tbody tr th:only-of-type {\n",
       "        vertical-align: middle;\n",
       "    }\n",
       "\n",
       "    .dataframe tbody tr th {\n",
       "        vertical-align: top;\n",
       "    }\n",
       "\n",
       "    .dataframe thead th {\n",
       "        text-align: right;\n",
       "    }\n",
       "</style>\n",
       "<table border=\"1\" class=\"dataframe\">\n",
       "  <thead>\n",
       "    <tr style=\"text-align: right;\">\n",
       "      <th>Prior</th>\n",
       "      <th>False</th>\n",
       "      <th>True</th>\n",
       "    </tr>\n",
       "    <tr>\n",
       "      <th>section</th>\n",
       "      <th></th>\n",
       "      <th></th>\n",
       "    </tr>\n",
       "  </thead>\n",
       "  <tbody>\n",
       "    <tr>\n",
       "      <th>F17</th>\n",
       "      <td>7.9</td>\n",
       "      <td>46.1</td>\n",
       "    </tr>\n",
       "    <tr>\n",
       "      <th>S18</th>\n",
       "      <td>8.3</td>\n",
       "      <td>37.8</td>\n",
       "    </tr>\n",
       "  </tbody>\n",
       "</table>\n",
       "</div>"
      ],
      "text/plain": [
       "Prior    False  True \n",
       "section              \n",
       "F17        7.9   46.1\n",
       "S18        8.3   37.8"
      ]
     },
     "execution_count": 125,
     "metadata": {},
     "output_type": "execute_result"
    }
   ],
   "source": [
    "(df.groupby([\"section\",\"Prior\"]).size().unstack()/len(df)).apply(pretty_percent) # TODO Fix this, dividing by both sections "
   ]
  },
  {
   "cell_type": "markdown",
   "metadata": {},
   "source": [
    "### Programming Comfort by Semester"
   ]
  },
  {
   "cell_type": "code",
   "execution_count": 126,
   "metadata": {},
   "outputs": [
    {
     "data": {
      "text/html": [
       "<div>\n",
       "<style scoped>\n",
       "    .dataframe tbody tr th:only-of-type {\n",
       "        vertical-align: middle;\n",
       "    }\n",
       "\n",
       "    .dataframe tbody tr th {\n",
       "        vertical-align: top;\n",
       "    }\n",
       "\n",
       "    .dataframe thead th {\n",
       "        text-align: right;\n",
       "    }\n",
       "</style>\n",
       "<table border=\"1\" class=\"dataframe\">\n",
       "  <thead>\n",
       "    <tr style=\"text-align: right;\">\n",
       "      <th>Programming Comfort</th>\n",
       "      <th>Extremely comfortable</th>\n",
       "      <th>Extremely uncomfortable</th>\n",
       "      <th>Moderately comfortable</th>\n",
       "      <th>Moderately uncomfortable</th>\n",
       "      <th>Neither comfortable nor uncomfortable</th>\n",
       "      <th>Slightly comfortable</th>\n",
       "      <th>Slightly uncomfortable</th>\n",
       "    </tr>\n",
       "    <tr>\n",
       "      <th>section</th>\n",
       "      <th></th>\n",
       "      <th></th>\n",
       "      <th></th>\n",
       "      <th></th>\n",
       "      <th></th>\n",
       "      <th></th>\n",
       "      <th></th>\n",
       "    </tr>\n",
       "  </thead>\n",
       "  <tbody>\n",
       "    <tr>\n",
       "      <th>F17</th>\n",
       "      <td>0.4</td>\n",
       "      <td>3.3</td>\n",
       "      <td>9.2</td>\n",
       "      <td>7.7</td>\n",
       "      <td>8.8</td>\n",
       "      <td>13.8</td>\n",
       "      <td>10.7</td>\n",
       "    </tr>\n",
       "    <tr>\n",
       "      <th>S18</th>\n",
       "      <td>1.3</td>\n",
       "      <td>3.1</td>\n",
       "      <td>6.3</td>\n",
       "      <td>7.5</td>\n",
       "      <td>7.7</td>\n",
       "      <td>10.7</td>\n",
       "      <td>9.4</td>\n",
       "    </tr>\n",
       "  </tbody>\n",
       "</table>\n",
       "</div>"
      ],
      "text/plain": [
       "Programming Comfort  Extremely comfortable  Extremely uncomfortable  \\\n",
       "section                                                               \n",
       "F17                                    0.4                      3.3   \n",
       "S18                                    1.3                      3.1   \n",
       "\n",
       "Programming Comfort  Moderately comfortable  Moderately uncomfortable  \\\n",
       "section                                                                 \n",
       "F17                                     9.2                       7.7   \n",
       "S18                                     6.3                       7.5   \n",
       "\n",
       "Programming Comfort  Neither comfortable nor uncomfortable  \\\n",
       "section                                                      \n",
       "F17                                                    8.8   \n",
       "S18                                                    7.7   \n",
       "\n",
       "Programming Comfort  Slightly comfortable  Slightly uncomfortable  \n",
       "section                                                            \n",
       "F17                                  13.8                    10.7  \n",
       "S18                                  10.7                     9.4  "
      ]
     },
     "execution_count": 126,
     "metadata": {},
     "output_type": "execute_result"
    }
   ],
   "source": [
    "# TODO Fix this, dividing by both sections \n",
    "(df.groupby([\"section\", \"Programming Comfort\"]).size().unstack()/len(df)).apply(pretty_percent)#.plot.barh()"
   ]
  },
  {
   "cell_type": "markdown",
   "metadata": {},
   "source": [
    "### Prior Experience By Semester "
   ]
  },
  {
   "cell_type": "code",
   "execution_count": 127,
   "metadata": {},
   "outputs": [
    {
     "data": {
      "text/html": [
       "<div>\n",
       "<style scoped>\n",
       "    .dataframe tbody tr th:only-of-type {\n",
       "        vertical-align: middle;\n",
       "    }\n",
       "\n",
       "    .dataframe tbody tr th {\n",
       "        vertical-align: top;\n",
       "    }\n",
       "\n",
       "    .dataframe thead th {\n",
       "        text-align: right;\n",
       "    }\n",
       "</style>\n",
       "<table border=\"1\" class=\"dataframe\">\n",
       "  <thead>\n",
       "    <tr style=\"text-align: right;\">\n",
       "      <th>Prior</th>\n",
       "      <th>False</th>\n",
       "      <th>True</th>\n",
       "    </tr>\n",
       "    <tr>\n",
       "      <th>section</th>\n",
       "      <th></th>\n",
       "      <th></th>\n",
       "    </tr>\n",
       "  </thead>\n",
       "  <tbody>\n",
       "    <tr>\n",
       "      <th>F17</th>\n",
       "      <td>41</td>\n",
       "      <td>240</td>\n",
       "    </tr>\n",
       "    <tr>\n",
       "      <th>S18</th>\n",
       "      <td>43</td>\n",
       "      <td>197</td>\n",
       "    </tr>\n",
       "  </tbody>\n",
       "</table>\n",
       "</div>"
      ],
      "text/plain": [
       "Prior    False  True \n",
       "section              \n",
       "F17         41    240\n",
       "S18         43    197"
      ]
     },
     "execution_count": 127,
     "metadata": {},
     "output_type": "execute_result"
    }
   ],
   "source": [
    "df.groupby([\"section\", \"Prior\"]).user_name.unique().map(len).unstack()"
   ]
  },
  {
   "cell_type": "markdown",
   "metadata": {},
   "source": [
    "### WE Awareness Data"
   ]
  },
  {
   "cell_type": "code",
   "execution_count": 128,
   "metadata": {},
   "outputs": [
    {
     "data": {
      "text/plain": [
       "Aware?\n",
       "No      6.2\n",
       "Yes    93.8\n",
       "dtype: float64"
      ]
     },
     "execution_count": 128,
     "metadata": {},
     "output_type": "execute_result"
    }
   ],
   "source": [
    "# TODO Only adds to ~92. Probably need to filter out entries w/o survey data\n",
    "s18DF = df[(df.section == \"S18\")].dropna()\n",
    "(s18DF.groupby(\"Aware?\").size()/len(s18DF)).apply(pretty_percent)"
   ]
  },
  {
   "cell_type": "markdown",
   "metadata": {},
   "source": [
    "## Survey Results"
   ]
  },
  {
   "cell_type": "markdown",
   "metadata": {},
   "source": [
    "### WE Helpfulness Data"
   ]
  },
  {
   "cell_type": "code",
   "execution_count": 142,
   "metadata": {},
   "outputs": [
    {
     "data": {
      "text/plain": [
       "Prior  Helpful\n",
       "False  False       5.6\n",
       "       True       13.5\n",
       "True   False      30.7\n",
       "       True       50.2\n",
       "dtype: float64"
      ]
     },
     "execution_count": 142,
     "metadata": {},
     "output_type": "execute_result"
    }
   ],
   "source": [
    "# TODO Only adds to ~92. \n",
    "def helpMap(helpful):\n",
    "    hmap ={\"Strongly disagree\": -2, \"Somewhat disagree\": -1, \"Neither agree or disagree\":0, \n",
    "     \"Somewhat agree\": 1, \"Strongly agree\": 2}\n",
    "    return hmap[helpful]\n",
    "helpful=s18DF.drop_duplicates(\"user_name\").groupby([\"Prior\",\"Helpful\"]).size()\n",
    "\n",
    "helpful#/len(s18DF.drop_duplicates(\"user_name\"))).apply(pretty_percent)\n"
   ]
  },
  {
   "cell_type": "markdown",
   "metadata": {},
   "source": [
    "### Reported Usage"
   ]
  },
  {
   "cell_type": "code",
   "execution_count": 130,
   "metadata": {},
   "outputs": [
    {
     "data": {
      "text/plain": [
       "ReadFrequency\n",
       "About half the time    16.7\n",
       "Always                 25.5\n",
       "Most of the time       30.6\n",
       "Never                   6.2\n",
       "Sometimes              20.9\n",
       "dtype: float64"
      ]
     },
     "execution_count": 130,
     "metadata": {},
     "output_type": "execute_result"
    }
   ],
   "source": [
    "(s18DF.groupby(\"ReadFrequency\").size()/len(s18DF)).apply(pretty_percent)"
   ]
  },
  {
   "cell_type": "markdown",
   "metadata": {},
   "source": [
    "### WE Use X Prior Experience vs TOT, runs"
   ]
  },
  {
   "cell_type": "code",
   "execution_count": 131,
   "metadata": {},
   "outputs": [
    {
     "data": {
      "text/plain": [
       "section  Comfort  used_we\n",
       "F17      False    False      159\n",
       "         True     False      122\n",
       "S18      False    False       97\n",
       "                  True        47\n",
       "         True     False       72\n",
       "                  True        24\n",
       "dtype: int64"
      ]
     },
     "execution_count": 131,
     "metadata": {},
     "output_type": "execute_result"
    }
   ],
   "source": [
    "pa = attempted.drop_duplicates(\"user_name\").groupby([\"section\", \"Comfort\", \"used_we\"])\n",
    "pa.size()"
   ]
  },
  {
   "cell_type": "code",
   "execution_count": 132,
   "metadata": {},
   "outputs": [
    {
     "data": {
      "text/plain": [
       "-0.30311433240682695"
      ]
     },
     "execution_count": 132,
     "metadata": {},
     "output_type": "execute_result"
    }
   ],
   "source": [
    "probs = [\"#39.4) Default Name\", \"#43.4) Multiple Returns\", \"#45.5) Fix Names\", \"#45.6) File Size\"]\n",
    "filtered = corrected[(corrected.name.isin(probs)) & (corrected.section==\"S18\")]\n",
    "filtered.groupby([\"used_we\",  \"Comfort\",\"section\"]).time_on_task.agg([\"mean\", \"std\"])\n",
    "st.mannwhitneyu(filtered[filtered.used_we & filtered.Comfort].time_on_task,\n",
    "                filtered[filtered.used_we & ~filtered.Comfort].time_on_task) \n",
    "cohen_d(filtered[filtered.used_we & filtered.Comfort].time_on_task,\n",
    "                filtered[filtered.used_we & ~filtered.Comfort].time_on_task)\n",
    "# There was a significant difference between students who used the worked examples and had \n",
    "#prior experience vs. those who haad no prior experence,\n",
    "#with a medium negative effect size"
   ]
  },
  {
   "cell_type": "markdown",
   "metadata": {},
   "source": [
    "## More questions\n",
    "\n",
    "What was the difference in [Percentage Correct, Time Spent] of students who used Worked Examples, by problem?\n",
    "\n",
    "What was the percentage of students who had prior experience?\n",
    "\n",
    "What was the difference in [Percentage Correct, Time Spent] of students who had prior experience, by problem?\n",
    "\n",
    "What was the cross tabulated percentage of students who had (prior experience) x (used worked examples)?\n",
    "\n",
    "What was the difference in [Percentage Correct, Time Spent] of students by gender, by problem?\n",
    "\n",
    "What was the cross tabulated percentage of students who had (gender) x (used worked examples)?\n",
    "\n"
   ]
  }
 ],
 "metadata": {
  "kernelspec": {
   "display_name": "Python 3",
   "language": "python",
   "name": "python3"
  },
  "language_info": {
   "codemirror_mode": {
    "name": "ipython",
    "version": 3
   },
   "file_extension": ".py",
   "mimetype": "text/x-python",
   "name": "python",
   "nbconvert_exporter": "python",
   "pygments_lexer": "ipython3",
   "version": "3.6.4"
  }
 },
 "nbformat": 4,
 "nbformat_minor": 2
}
